{
 "cells": [
  {
   "cell_type": "markdown",
   "id": "66d4df76",
   "metadata": {},
   "source": [
    "# Title - Nigeria COVID-19 Data Analysis using Python "
   ]
  },
  {
   "cell_type": "code",
   "execution_count": 1,
   "id": "21f8d699",
   "metadata": {},
   "outputs": [],
   "source": [
    "import pandas as pd\n",
    "import numpy as np\n",
    "import matplotlib.pyplot as plt\n",
    "import seaborn as sns"
   ]
  },
  {
   "cell_type": "markdown",
   "id": "8e501b2b",
   "metadata": {},
   "source": [
    "## Data Collection"
   ]
  },
  {
   "cell_type": "markdown",
   "id": "dea8016e",
   "metadata": {},
   "source": [
    "### Webscraping using pandas pd.read_csv"
   ]
  },
  {
   "cell_type": "code",
   "execution_count": 2,
   "id": "e957c869",
   "metadata": {},
   "outputs": [
    {
     "data": {
      "text/html": [
       "<div>\n",
       "<style scoped>\n",
       "    .dataframe tbody tr th:only-of-type {\n",
       "        vertical-align: middle;\n",
       "    }\n",
       "\n",
       "    .dataframe tbody tr th {\n",
       "        vertical-align: top;\n",
       "    }\n",
       "\n",
       "    .dataframe thead th {\n",
       "        text-align: right;\n",
       "    }\n",
       "</style>\n",
       "<table border=\"1\" class=\"dataframe\">\n",
       "  <thead>\n",
       "    <tr style=\"text-align: right;\">\n",
       "      <th></th>\n",
       "      <th>States Affected</th>\n",
       "      <th>No. of Cases (Lab Confirmed)</th>\n",
       "      <th>No. of Cases (on admission)</th>\n",
       "      <th>No. Discharged</th>\n",
       "      <th>No. of Deaths</th>\n",
       "    </tr>\n",
       "  </thead>\n",
       "  <tbody>\n",
       "    <tr>\n",
       "      <th>0</th>\n",
       "      <td>Lagos</td>\n",
       "      <td>26,708</td>\n",
       "      <td>2,435</td>\n",
       "      <td>24,037</td>\n",
       "      <td>236</td>\n",
       "    </tr>\n",
       "    <tr>\n",
       "      <th>1</th>\n",
       "      <td>FCT</td>\n",
       "      <td>9,627</td>\n",
       "      <td>2,840</td>\n",
       "      <td>6,694</td>\n",
       "      <td>93</td>\n",
       "    </tr>\n",
       "    <tr>\n",
       "      <th>2</th>\n",
       "      <td>Kaduna</td>\n",
       "      <td>4,504</td>\n",
       "      <td>579</td>\n",
       "      <td>3,877</td>\n",
       "      <td>48</td>\n",
       "    </tr>\n",
       "    <tr>\n",
       "      <th>3</th>\n",
       "      <td>Plateau</td>\n",
       "      <td>4,262</td>\n",
       "      <td>280</td>\n",
       "      <td>3,948</td>\n",
       "      <td>34</td>\n",
       "    </tr>\n",
       "    <tr>\n",
       "      <th>4</th>\n",
       "      <td>Oyo</td>\n",
       "      <td>3,788</td>\n",
       "      <td>368</td>\n",
       "      <td>3,374</td>\n",
       "      <td>46</td>\n",
       "    </tr>\n",
       "    <tr>\n",
       "      <th>5</th>\n",
       "      <td>Rivers</td>\n",
       "      <td>3,279</td>\n",
       "      <td>232</td>\n",
       "      <td>2,987</td>\n",
       "      <td>60</td>\n",
       "    </tr>\n",
       "    <tr>\n",
       "      <th>6</th>\n",
       "      <td>Edo</td>\n",
       "      <td>2,768</td>\n",
       "      <td>52</td>\n",
       "      <td>2,603</td>\n",
       "      <td>113</td>\n",
       "    </tr>\n",
       "    <tr>\n",
       "      <th>7</th>\n",
       "      <td>Ogun</td>\n",
       "      <td>2,382</td>\n",
       "      <td>174</td>\n",
       "      <td>2,175</td>\n",
       "      <td>33</td>\n",
       "    </tr>\n",
       "    <tr>\n",
       "      <th>8</th>\n",
       "      <td>Kano</td>\n",
       "      <td>2,032</td>\n",
       "      <td>198</td>\n",
       "      <td>1,778</td>\n",
       "      <td>56</td>\n",
       "    </tr>\n",
       "    <tr>\n",
       "      <th>9</th>\n",
       "      <td>Delta</td>\n",
       "      <td>1,843</td>\n",
       "      <td>57</td>\n",
       "      <td>1,737</td>\n",
       "      <td>49</td>\n",
       "    </tr>\n",
       "    <tr>\n",
       "      <th>10</th>\n",
       "      <td>Ondo</td>\n",
       "      <td>1,793</td>\n",
       "      <td>62</td>\n",
       "      <td>1,690</td>\n",
       "      <td>41</td>\n",
       "    </tr>\n",
       "    <tr>\n",
       "      <th>11</th>\n",
       "      <td>Katsina</td>\n",
       "      <td>1,405</td>\n",
       "      <td>214</td>\n",
       "      <td>1,167</td>\n",
       "      <td>24</td>\n",
       "    </tr>\n",
       "    <tr>\n",
       "      <th>12</th>\n",
       "      <td>Enugu</td>\n",
       "      <td>1,376</td>\n",
       "      <td>34</td>\n",
       "      <td>1,321</td>\n",
       "      <td>21</td>\n",
       "    </tr>\n",
       "    <tr>\n",
       "      <th>13</th>\n",
       "      <td>Kwara</td>\n",
       "      <td>1,296</td>\n",
       "      <td>171</td>\n",
       "      <td>1,094</td>\n",
       "      <td>31</td>\n",
       "    </tr>\n",
       "    <tr>\n",
       "      <th>14</th>\n",
       "      <td>Gombe</td>\n",
       "      <td>1,164</td>\n",
       "      <td>183</td>\n",
       "      <td>950</td>\n",
       "      <td>31</td>\n",
       "    </tr>\n",
       "    <tr>\n",
       "      <th>15</th>\n",
       "      <td>Ebonyi</td>\n",
       "      <td>1,091</td>\n",
       "      <td>24</td>\n",
       "      <td>1,037</td>\n",
       "      <td>30</td>\n",
       "    </tr>\n",
       "    <tr>\n",
       "      <th>16</th>\n",
       "      <td>Abia</td>\n",
       "      <td>980</td>\n",
       "      <td>25</td>\n",
       "      <td>945</td>\n",
       "      <td>10</td>\n",
       "    </tr>\n",
       "    <tr>\n",
       "      <th>17</th>\n",
       "      <td>Osun</td>\n",
       "      <td>979</td>\n",
       "      <td>20</td>\n",
       "      <td>937</td>\n",
       "      <td>22</td>\n",
       "    </tr>\n",
       "    <tr>\n",
       "      <th>18</th>\n",
       "      <td>Bauchi</td>\n",
       "      <td>897</td>\n",
       "      <td>108</td>\n",
       "      <td>775</td>\n",
       "      <td>14</td>\n",
       "    </tr>\n",
       "    <tr>\n",
       "      <th>19</th>\n",
       "      <td>Borno</td>\n",
       "      <td>778</td>\n",
       "      <td>37</td>\n",
       "      <td>705</td>\n",
       "      <td>36</td>\n",
       "    </tr>\n",
       "    <tr>\n",
       "      <th>20</th>\n",
       "      <td>Imo</td>\n",
       "      <td>734</td>\n",
       "      <td>61</td>\n",
       "      <td>661</td>\n",
       "      <td>12</td>\n",
       "    </tr>\n",
       "    <tr>\n",
       "      <th>21</th>\n",
       "      <td>Nasarawa</td>\n",
       "      <td>600</td>\n",
       "      <td>262</td>\n",
       "      <td>325</td>\n",
       "      <td>13</td>\n",
       "    </tr>\n",
       "    <tr>\n",
       "      <th>22</th>\n",
       "      <td>Benue</td>\n",
       "      <td>515</td>\n",
       "      <td>44</td>\n",
       "      <td>460</td>\n",
       "      <td>11</td>\n",
       "    </tr>\n",
       "    <tr>\n",
       "      <th>23</th>\n",
       "      <td>Bayelsa</td>\n",
       "      <td>497</td>\n",
       "      <td>55</td>\n",
       "      <td>421</td>\n",
       "      <td>21</td>\n",
       "    </tr>\n",
       "    <tr>\n",
       "      <th>24</th>\n",
       "      <td>Ekiti</td>\n",
       "      <td>405</td>\n",
       "      <td>24</td>\n",
       "      <td>375</td>\n",
       "      <td>6</td>\n",
       "    </tr>\n",
       "    <tr>\n",
       "      <th>25</th>\n",
       "      <td>Akwa Ibom</td>\n",
       "      <td>395</td>\n",
       "      <td>44</td>\n",
       "      <td>342</td>\n",
       "      <td>9</td>\n",
       "    </tr>\n",
       "    <tr>\n",
       "      <th>26</th>\n",
       "      <td>Jigawa</td>\n",
       "      <td>386</td>\n",
       "      <td>57</td>\n",
       "      <td>318</td>\n",
       "      <td>11</td>\n",
       "    </tr>\n",
       "    <tr>\n",
       "      <th>27</th>\n",
       "      <td>Niger</td>\n",
       "      <td>381</td>\n",
       "      <td>69</td>\n",
       "      <td>300</td>\n",
       "      <td>12</td>\n",
       "    </tr>\n",
       "    <tr>\n",
       "      <th>28</th>\n",
       "      <td>Adamawa</td>\n",
       "      <td>355</td>\n",
       "      <td>96</td>\n",
       "      <td>238</td>\n",
       "      <td>21</td>\n",
       "    </tr>\n",
       "    <tr>\n",
       "      <th>29</th>\n",
       "      <td>Anambra</td>\n",
       "      <td>299</td>\n",
       "      <td>6</td>\n",
       "      <td>274</td>\n",
       "      <td>19</td>\n",
       "    </tr>\n",
       "    <tr>\n",
       "      <th>30</th>\n",
       "      <td>Sokoto</td>\n",
       "      <td>228</td>\n",
       "      <td>40</td>\n",
       "      <td>171</td>\n",
       "      <td>17</td>\n",
       "    </tr>\n",
       "    <tr>\n",
       "      <th>31</th>\n",
       "      <td>Taraba</td>\n",
       "      <td>203</td>\n",
       "      <td>19</td>\n",
       "      <td>177</td>\n",
       "      <td>7</td>\n",
       "    </tr>\n",
       "    <tr>\n",
       "      <th>32</th>\n",
       "      <td>Yobe</td>\n",
       "      <td>164</td>\n",
       "      <td>33</td>\n",
       "      <td>123</td>\n",
       "      <td>8</td>\n",
       "    </tr>\n",
       "    <tr>\n",
       "      <th>33</th>\n",
       "      <td>Kebbi</td>\n",
       "      <td>143</td>\n",
       "      <td>5</td>\n",
       "      <td>130</td>\n",
       "      <td>8</td>\n",
       "    </tr>\n",
       "    <tr>\n",
       "      <th>34</th>\n",
       "      <td>Cross River</td>\n",
       "      <td>93</td>\n",
       "      <td>1</td>\n",
       "      <td>81</td>\n",
       "      <td>11</td>\n",
       "    </tr>\n",
       "    <tr>\n",
       "      <th>35</th>\n",
       "      <td>Zamfara</td>\n",
       "      <td>79</td>\n",
       "      <td>1</td>\n",
       "      <td>73</td>\n",
       "      <td>5</td>\n",
       "    </tr>\n",
       "    <tr>\n",
       "      <th>36</th>\n",
       "      <td>Kogi</td>\n",
       "      <td>5</td>\n",
       "      <td>0</td>\n",
       "      <td>3</td>\n",
       "      <td>2</td>\n",
       "    </tr>\n",
       "  </tbody>\n",
       "</table>\n",
       "</div>"
      ],
      "text/plain": [
       "   States Affected No. of Cases (Lab Confirmed) No. of Cases (on admission)  \\\n",
       "0            Lagos                       26,708                       2,435   \n",
       "1              FCT                        9,627                       2,840   \n",
       "2           Kaduna                        4,504                         579   \n",
       "3          Plateau                        4,262                         280   \n",
       "4              Oyo                        3,788                         368   \n",
       "5           Rivers                        3,279                         232   \n",
       "6              Edo                        2,768                          52   \n",
       "7             Ogun                        2,382                         174   \n",
       "8             Kano                        2,032                         198   \n",
       "9            Delta                        1,843                          57   \n",
       "10            Ondo                        1,793                          62   \n",
       "11         Katsina                        1,405                         214   \n",
       "12           Enugu                        1,376                          34   \n",
       "13           Kwara                        1,296                         171   \n",
       "14           Gombe                        1,164                         183   \n",
       "15          Ebonyi                        1,091                          24   \n",
       "16            Abia                          980                          25   \n",
       "17            Osun                          979                          20   \n",
       "18          Bauchi                          897                         108   \n",
       "19           Borno                          778                          37   \n",
       "20             Imo                          734                          61   \n",
       "21        Nasarawa                          600                         262   \n",
       "22           Benue                          515                          44   \n",
       "23         Bayelsa                          497                          55   \n",
       "24           Ekiti                          405                          24   \n",
       "25       Akwa Ibom                          395                          44   \n",
       "26          Jigawa                          386                          57   \n",
       "27           Niger                          381                          69   \n",
       "28         Adamawa                          355                          96   \n",
       "29         Anambra                          299                           6   \n",
       "30          Sokoto                          228                          40   \n",
       "31          Taraba                          203                          19   \n",
       "32            Yobe                          164                          33   \n",
       "33           Kebbi                          143                           5   \n",
       "34     Cross River                           93                           1   \n",
       "35        Zamfara                            79                           1   \n",
       "36            Kogi                            5                           0   \n",
       "\n",
       "   No. Discharged  No. of Deaths  \n",
       "0          24,037            236  \n",
       "1           6,694             93  \n",
       "2           3,877             48  \n",
       "3           3,948             34  \n",
       "4           3,374             46  \n",
       "5           2,987             60  \n",
       "6           2,603            113  \n",
       "7           2,175             33  \n",
       "8           1,778             56  \n",
       "9           1,737             49  \n",
       "10          1,690             41  \n",
       "11          1,167             24  \n",
       "12          1,321             21  \n",
       "13          1,094             31  \n",
       "14            950             31  \n",
       "15          1,037             30  \n",
       "16            945             10  \n",
       "17            937             22  \n",
       "18            775             14  \n",
       "19            705             36  \n",
       "20            661             12  \n",
       "21            325             13  \n",
       "22            460             11  \n",
       "23            421             21  \n",
       "24            375              6  \n",
       "25            342              9  \n",
       "26            318             11  \n",
       "27            300             12  \n",
       "28            238             21  \n",
       "29            274             19  \n",
       "30            171             17  \n",
       "31            177              7  \n",
       "32            123              8  \n",
       "33            130              8  \n",
       "34             81             11  \n",
       "35             73              5  \n",
       "36              3              2  "
      ]
     },
     "execution_count": 2,
     "metadata": {},
     "output_type": "execute_result"
    }
   ],
   "source": [
    "df = pd.read_csv('covidnig.csv')\n",
    "df"
   ]
  },
  {
   "cell_type": "code",
   "execution_count": 3,
   "id": "5a8060b5",
   "metadata": {},
   "outputs": [
    {
     "data": {
      "text/html": [
       "<div>\n",
       "<style scoped>\n",
       "    .dataframe tbody tr th:only-of-type {\n",
       "        vertical-align: middle;\n",
       "    }\n",
       "\n",
       "    .dataframe tbody tr th {\n",
       "        vertical-align: top;\n",
       "    }\n",
       "\n",
       "    .dataframe thead th {\n",
       "        text-align: right;\n",
       "    }\n",
       "</style>\n",
       "<table border=\"1\" class=\"dataframe\">\n",
       "  <thead>\n",
       "    <tr style=\"text-align: right;\">\n",
       "      <th></th>\n",
       "      <th>States Affected</th>\n",
       "      <th>No. of Cases (Lab Confirmed)</th>\n",
       "      <th>No. of Cases (on admission)</th>\n",
       "      <th>No. Discharged</th>\n",
       "      <th>No. of Deaths</th>\n",
       "    </tr>\n",
       "  </thead>\n",
       "  <tbody>\n",
       "    <tr>\n",
       "      <th>0</th>\n",
       "      <td>Lagos</td>\n",
       "      <td>26,708</td>\n",
       "      <td>2,435</td>\n",
       "      <td>24,037</td>\n",
       "      <td>236</td>\n",
       "    </tr>\n",
       "    <tr>\n",
       "      <th>1</th>\n",
       "      <td>FCT</td>\n",
       "      <td>9,627</td>\n",
       "      <td>2,840</td>\n",
       "      <td>6,694</td>\n",
       "      <td>93</td>\n",
       "    </tr>\n",
       "    <tr>\n",
       "      <th>2</th>\n",
       "      <td>Kaduna</td>\n",
       "      <td>4,504</td>\n",
       "      <td>579</td>\n",
       "      <td>3,877</td>\n",
       "      <td>48</td>\n",
       "    </tr>\n",
       "    <tr>\n",
       "      <th>3</th>\n",
       "      <td>Plateau</td>\n",
       "      <td>4,262</td>\n",
       "      <td>280</td>\n",
       "      <td>3,948</td>\n",
       "      <td>34</td>\n",
       "    </tr>\n",
       "    <tr>\n",
       "      <th>4</th>\n",
       "      <td>Oyo</td>\n",
       "      <td>3,788</td>\n",
       "      <td>368</td>\n",
       "      <td>3,374</td>\n",
       "      <td>46</td>\n",
       "    </tr>\n",
       "  </tbody>\n",
       "</table>\n",
       "</div>"
      ],
      "text/plain": [
       "  States Affected No. of Cases (Lab Confirmed) No. of Cases (on admission)  \\\n",
       "0           Lagos                       26,708                       2,435   \n",
       "1             FCT                        9,627                       2,840   \n",
       "2          Kaduna                        4,504                         579   \n",
       "3         Plateau                        4,262                         280   \n",
       "4             Oyo                        3,788                         368   \n",
       "\n",
       "  No. Discharged  No. of Deaths  \n",
       "0         24,037            236  \n",
       "1          6,694             93  \n",
       "2          3,877             48  \n",
       "3          3,948             34  \n",
       "4          3,374             46  "
      ]
     },
     "execution_count": 3,
     "metadata": {},
     "output_type": "execute_result"
    }
   ],
   "source": [
    "df.head()"
   ]
  },
  {
   "cell_type": "code",
   "execution_count": null,
   "id": "3df269d4",
   "metadata": {},
   "outputs": [],
   "source": []
  },
  {
   "cell_type": "markdown",
   "id": "80cb2a02",
   "metadata": {},
   "source": [
    "## Data Cleaning & Preparation"
   ]
  },
  {
   "cell_type": "code",
   "execution_count": 4,
   "id": "9662aed7",
   "metadata": {},
   "outputs": [
    {
     "name": "stdout",
     "output_type": "stream",
     "text": [
      "<class 'pandas.core.frame.DataFrame'>\n",
      "RangeIndex: 37 entries, 0 to 36\n",
      "Data columns (total 5 columns):\n",
      " #   Column                        Non-Null Count  Dtype \n",
      "---  ------                        --------------  ----- \n",
      " 0   States Affected               37 non-null     object\n",
      " 1   No. of Cases (Lab Confirmed)  37 non-null     object\n",
      " 2   No. of Cases (on admission)   37 non-null     object\n",
      " 3   No. Discharged                37 non-null     object\n",
      " 4   No. of Deaths                 37 non-null     int64 \n",
      "dtypes: int64(1), object(4)\n",
      "memory usage: 1.6+ KB\n"
     ]
    }
   ],
   "source": [
    "df.info()"
   ]
  },
  {
   "cell_type": "code",
   "execution_count": 5,
   "id": "5ef1154f",
   "metadata": {},
   "outputs": [
    {
     "data": {
      "text/html": [
       "<div>\n",
       "<style scoped>\n",
       "    .dataframe tbody tr th:only-of-type {\n",
       "        vertical-align: middle;\n",
       "    }\n",
       "\n",
       "    .dataframe tbody tr th {\n",
       "        vertical-align: top;\n",
       "    }\n",
       "\n",
       "    .dataframe thead th {\n",
       "        text-align: right;\n",
       "    }\n",
       "</style>\n",
       "<table border=\"1\" class=\"dataframe\">\n",
       "  <thead>\n",
       "    <tr style=\"text-align: right;\">\n",
       "      <th></th>\n",
       "      <th>States Affected</th>\n",
       "      <th>No. of Cases (Lab Confirmed)</th>\n",
       "      <th>No. of Cases (on admission)</th>\n",
       "      <th>No. Discharged</th>\n",
       "      <th>No. of Deaths</th>\n",
       "    </tr>\n",
       "  </thead>\n",
       "  <tbody>\n",
       "    <tr>\n",
       "      <th>0</th>\n",
       "      <td>Lagos</td>\n",
       "      <td>26708</td>\n",
       "      <td>2,435</td>\n",
       "      <td>24,037</td>\n",
       "      <td>236</td>\n",
       "    </tr>\n",
       "    <tr>\n",
       "      <th>1</th>\n",
       "      <td>FCT</td>\n",
       "      <td>9627</td>\n",
       "      <td>2,840</td>\n",
       "      <td>6,694</td>\n",
       "      <td>93</td>\n",
       "    </tr>\n",
       "    <tr>\n",
       "      <th>2</th>\n",
       "      <td>Kaduna</td>\n",
       "      <td>4504</td>\n",
       "      <td>579</td>\n",
       "      <td>3,877</td>\n",
       "      <td>48</td>\n",
       "    </tr>\n",
       "    <tr>\n",
       "      <th>3</th>\n",
       "      <td>Plateau</td>\n",
       "      <td>4262</td>\n",
       "      <td>280</td>\n",
       "      <td>3,948</td>\n",
       "      <td>34</td>\n",
       "    </tr>\n",
       "    <tr>\n",
       "      <th>4</th>\n",
       "      <td>Oyo</td>\n",
       "      <td>3788</td>\n",
       "      <td>368</td>\n",
       "      <td>3,374</td>\n",
       "      <td>46</td>\n",
       "    </tr>\n",
       "    <tr>\n",
       "      <th>5</th>\n",
       "      <td>Rivers</td>\n",
       "      <td>3279</td>\n",
       "      <td>232</td>\n",
       "      <td>2,987</td>\n",
       "      <td>60</td>\n",
       "    </tr>\n",
       "    <tr>\n",
       "      <th>6</th>\n",
       "      <td>Edo</td>\n",
       "      <td>2768</td>\n",
       "      <td>52</td>\n",
       "      <td>2,603</td>\n",
       "      <td>113</td>\n",
       "    </tr>\n",
       "    <tr>\n",
       "      <th>7</th>\n",
       "      <td>Ogun</td>\n",
       "      <td>2382</td>\n",
       "      <td>174</td>\n",
       "      <td>2,175</td>\n",
       "      <td>33</td>\n",
       "    </tr>\n",
       "    <tr>\n",
       "      <th>8</th>\n",
       "      <td>Kano</td>\n",
       "      <td>2032</td>\n",
       "      <td>198</td>\n",
       "      <td>1,778</td>\n",
       "      <td>56</td>\n",
       "    </tr>\n",
       "    <tr>\n",
       "      <th>9</th>\n",
       "      <td>Delta</td>\n",
       "      <td>1843</td>\n",
       "      <td>57</td>\n",
       "      <td>1,737</td>\n",
       "      <td>49</td>\n",
       "    </tr>\n",
       "    <tr>\n",
       "      <th>10</th>\n",
       "      <td>Ondo</td>\n",
       "      <td>1793</td>\n",
       "      <td>62</td>\n",
       "      <td>1,690</td>\n",
       "      <td>41</td>\n",
       "    </tr>\n",
       "    <tr>\n",
       "      <th>11</th>\n",
       "      <td>Katsina</td>\n",
       "      <td>1405</td>\n",
       "      <td>214</td>\n",
       "      <td>1,167</td>\n",
       "      <td>24</td>\n",
       "    </tr>\n",
       "    <tr>\n",
       "      <th>12</th>\n",
       "      <td>Enugu</td>\n",
       "      <td>1376</td>\n",
       "      <td>34</td>\n",
       "      <td>1,321</td>\n",
       "      <td>21</td>\n",
       "    </tr>\n",
       "    <tr>\n",
       "      <th>13</th>\n",
       "      <td>Kwara</td>\n",
       "      <td>1296</td>\n",
       "      <td>171</td>\n",
       "      <td>1,094</td>\n",
       "      <td>31</td>\n",
       "    </tr>\n",
       "    <tr>\n",
       "      <th>14</th>\n",
       "      <td>Gombe</td>\n",
       "      <td>1164</td>\n",
       "      <td>183</td>\n",
       "      <td>950</td>\n",
       "      <td>31</td>\n",
       "    </tr>\n",
       "    <tr>\n",
       "      <th>15</th>\n",
       "      <td>Ebonyi</td>\n",
       "      <td>1091</td>\n",
       "      <td>24</td>\n",
       "      <td>1,037</td>\n",
       "      <td>30</td>\n",
       "    </tr>\n",
       "    <tr>\n",
       "      <th>16</th>\n",
       "      <td>Abia</td>\n",
       "      <td>980</td>\n",
       "      <td>25</td>\n",
       "      <td>945</td>\n",
       "      <td>10</td>\n",
       "    </tr>\n",
       "    <tr>\n",
       "      <th>17</th>\n",
       "      <td>Osun</td>\n",
       "      <td>979</td>\n",
       "      <td>20</td>\n",
       "      <td>937</td>\n",
       "      <td>22</td>\n",
       "    </tr>\n",
       "    <tr>\n",
       "      <th>18</th>\n",
       "      <td>Bauchi</td>\n",
       "      <td>897</td>\n",
       "      <td>108</td>\n",
       "      <td>775</td>\n",
       "      <td>14</td>\n",
       "    </tr>\n",
       "    <tr>\n",
       "      <th>19</th>\n",
       "      <td>Borno</td>\n",
       "      <td>778</td>\n",
       "      <td>37</td>\n",
       "      <td>705</td>\n",
       "      <td>36</td>\n",
       "    </tr>\n",
       "    <tr>\n",
       "      <th>20</th>\n",
       "      <td>Imo</td>\n",
       "      <td>734</td>\n",
       "      <td>61</td>\n",
       "      <td>661</td>\n",
       "      <td>12</td>\n",
       "    </tr>\n",
       "    <tr>\n",
       "      <th>21</th>\n",
       "      <td>Nasarawa</td>\n",
       "      <td>600</td>\n",
       "      <td>262</td>\n",
       "      <td>325</td>\n",
       "      <td>13</td>\n",
       "    </tr>\n",
       "    <tr>\n",
       "      <th>22</th>\n",
       "      <td>Benue</td>\n",
       "      <td>515</td>\n",
       "      <td>44</td>\n",
       "      <td>460</td>\n",
       "      <td>11</td>\n",
       "    </tr>\n",
       "    <tr>\n",
       "      <th>23</th>\n",
       "      <td>Bayelsa</td>\n",
       "      <td>497</td>\n",
       "      <td>55</td>\n",
       "      <td>421</td>\n",
       "      <td>21</td>\n",
       "    </tr>\n",
       "    <tr>\n",
       "      <th>24</th>\n",
       "      <td>Ekiti</td>\n",
       "      <td>405</td>\n",
       "      <td>24</td>\n",
       "      <td>375</td>\n",
       "      <td>6</td>\n",
       "    </tr>\n",
       "    <tr>\n",
       "      <th>25</th>\n",
       "      <td>Akwa Ibom</td>\n",
       "      <td>395</td>\n",
       "      <td>44</td>\n",
       "      <td>342</td>\n",
       "      <td>9</td>\n",
       "    </tr>\n",
       "    <tr>\n",
       "      <th>26</th>\n",
       "      <td>Jigawa</td>\n",
       "      <td>386</td>\n",
       "      <td>57</td>\n",
       "      <td>318</td>\n",
       "      <td>11</td>\n",
       "    </tr>\n",
       "    <tr>\n",
       "      <th>27</th>\n",
       "      <td>Niger</td>\n",
       "      <td>381</td>\n",
       "      <td>69</td>\n",
       "      <td>300</td>\n",
       "      <td>12</td>\n",
       "    </tr>\n",
       "    <tr>\n",
       "      <th>28</th>\n",
       "      <td>Adamawa</td>\n",
       "      <td>355</td>\n",
       "      <td>96</td>\n",
       "      <td>238</td>\n",
       "      <td>21</td>\n",
       "    </tr>\n",
       "    <tr>\n",
       "      <th>29</th>\n",
       "      <td>Anambra</td>\n",
       "      <td>299</td>\n",
       "      <td>6</td>\n",
       "      <td>274</td>\n",
       "      <td>19</td>\n",
       "    </tr>\n",
       "    <tr>\n",
       "      <th>30</th>\n",
       "      <td>Sokoto</td>\n",
       "      <td>228</td>\n",
       "      <td>40</td>\n",
       "      <td>171</td>\n",
       "      <td>17</td>\n",
       "    </tr>\n",
       "    <tr>\n",
       "      <th>31</th>\n",
       "      <td>Taraba</td>\n",
       "      <td>203</td>\n",
       "      <td>19</td>\n",
       "      <td>177</td>\n",
       "      <td>7</td>\n",
       "    </tr>\n",
       "    <tr>\n",
       "      <th>32</th>\n",
       "      <td>Yobe</td>\n",
       "      <td>164</td>\n",
       "      <td>33</td>\n",
       "      <td>123</td>\n",
       "      <td>8</td>\n",
       "    </tr>\n",
       "    <tr>\n",
       "      <th>33</th>\n",
       "      <td>Kebbi</td>\n",
       "      <td>143</td>\n",
       "      <td>5</td>\n",
       "      <td>130</td>\n",
       "      <td>8</td>\n",
       "    </tr>\n",
       "    <tr>\n",
       "      <th>34</th>\n",
       "      <td>Cross River</td>\n",
       "      <td>93</td>\n",
       "      <td>1</td>\n",
       "      <td>81</td>\n",
       "      <td>11</td>\n",
       "    </tr>\n",
       "    <tr>\n",
       "      <th>35</th>\n",
       "      <td>Zamfara</td>\n",
       "      <td>79</td>\n",
       "      <td>1</td>\n",
       "      <td>73</td>\n",
       "      <td>5</td>\n",
       "    </tr>\n",
       "    <tr>\n",
       "      <th>36</th>\n",
       "      <td>Kogi</td>\n",
       "      <td>5</td>\n",
       "      <td>0</td>\n",
       "      <td>3</td>\n",
       "      <td>2</td>\n",
       "    </tr>\n",
       "  </tbody>\n",
       "</table>\n",
       "</div>"
      ],
      "text/plain": [
       "   States Affected No. of Cases (Lab Confirmed) No. of Cases (on admission)  \\\n",
       "0            Lagos                        26708                       2,435   \n",
       "1              FCT                         9627                       2,840   \n",
       "2           Kaduna                         4504                         579   \n",
       "3          Plateau                         4262                         280   \n",
       "4              Oyo                         3788                         368   \n",
       "5           Rivers                         3279                         232   \n",
       "6              Edo                         2768                          52   \n",
       "7             Ogun                         2382                         174   \n",
       "8             Kano                         2032                         198   \n",
       "9            Delta                         1843                          57   \n",
       "10            Ondo                         1793                          62   \n",
       "11         Katsina                         1405                         214   \n",
       "12           Enugu                         1376                          34   \n",
       "13           Kwara                         1296                         171   \n",
       "14           Gombe                         1164                         183   \n",
       "15          Ebonyi                         1091                          24   \n",
       "16            Abia                          980                          25   \n",
       "17            Osun                          979                          20   \n",
       "18          Bauchi                          897                         108   \n",
       "19           Borno                          778                          37   \n",
       "20             Imo                          734                          61   \n",
       "21        Nasarawa                          600                         262   \n",
       "22           Benue                          515                          44   \n",
       "23         Bayelsa                          497                          55   \n",
       "24           Ekiti                          405                          24   \n",
       "25       Akwa Ibom                          395                          44   \n",
       "26          Jigawa                          386                          57   \n",
       "27           Niger                          381                          69   \n",
       "28         Adamawa                          355                          96   \n",
       "29         Anambra                          299                           6   \n",
       "30          Sokoto                          228                          40   \n",
       "31          Taraba                          203                          19   \n",
       "32            Yobe                          164                          33   \n",
       "33           Kebbi                          143                           5   \n",
       "34     Cross River                           93                           1   \n",
       "35        Zamfara                            79                           1   \n",
       "36            Kogi                            5                           0   \n",
       "\n",
       "   No. Discharged  No. of Deaths  \n",
       "0          24,037            236  \n",
       "1           6,694             93  \n",
       "2           3,877             48  \n",
       "3           3,948             34  \n",
       "4           3,374             46  \n",
       "5           2,987             60  \n",
       "6           2,603            113  \n",
       "7           2,175             33  \n",
       "8           1,778             56  \n",
       "9           1,737             49  \n",
       "10          1,690             41  \n",
       "11          1,167             24  \n",
       "12          1,321             21  \n",
       "13          1,094             31  \n",
       "14            950             31  \n",
       "15          1,037             30  \n",
       "16            945             10  \n",
       "17            937             22  \n",
       "18            775             14  \n",
       "19            705             36  \n",
       "20            661             12  \n",
       "21            325             13  \n",
       "22            460             11  \n",
       "23            421             21  \n",
       "24            375              6  \n",
       "25            342              9  \n",
       "26            318             11  \n",
       "27            300             12  \n",
       "28            238             21  \n",
       "29            274             19  \n",
       "30            171             17  \n",
       "31            177              7  \n",
       "32            123              8  \n",
       "33            130              8  \n",
       "34             81             11  \n",
       "35             73              5  \n",
       "36              3              2  "
      ]
     },
     "execution_count": 5,
     "metadata": {},
     "output_type": "execute_result"
    }
   ],
   "source": [
    "# Remove the comma in No. of Cases (Lab Confirmed) column\n",
    "df['No. of Cases (Lab Confirmed)'] = df['No. of Cases (Lab Confirmed)'].str.replace(',','')\n",
    "df"
   ]
  },
  {
   "cell_type": "code",
   "execution_count": null,
   "id": "b4df6624",
   "metadata": {},
   "outputs": [],
   "source": []
  },
  {
   "cell_type": "code",
   "execution_count": 6,
   "id": "68de5e60",
   "metadata": {},
   "outputs": [
    {
     "data": {
      "text/html": [
       "<div>\n",
       "<style scoped>\n",
       "    .dataframe tbody tr th:only-of-type {\n",
       "        vertical-align: middle;\n",
       "    }\n",
       "\n",
       "    .dataframe tbody tr th {\n",
       "        vertical-align: top;\n",
       "    }\n",
       "\n",
       "    .dataframe thead th {\n",
       "        text-align: right;\n",
       "    }\n",
       "</style>\n",
       "<table border=\"1\" class=\"dataframe\">\n",
       "  <thead>\n",
       "    <tr style=\"text-align: right;\">\n",
       "      <th></th>\n",
       "      <th>States Affected</th>\n",
       "      <th>No. of Cases (Lab Confirmed)</th>\n",
       "      <th>No. of Cases (on admission)</th>\n",
       "      <th>No. Discharged</th>\n",
       "      <th>No. of Deaths</th>\n",
       "    </tr>\n",
       "  </thead>\n",
       "  <tbody>\n",
       "    <tr>\n",
       "      <th>0</th>\n",
       "      <td>Lagos</td>\n",
       "      <td>26708</td>\n",
       "      <td>2435</td>\n",
       "      <td>24,037</td>\n",
       "      <td>236</td>\n",
       "    </tr>\n",
       "    <tr>\n",
       "      <th>1</th>\n",
       "      <td>FCT</td>\n",
       "      <td>9627</td>\n",
       "      <td>2840</td>\n",
       "      <td>6,694</td>\n",
       "      <td>93</td>\n",
       "    </tr>\n",
       "    <tr>\n",
       "      <th>2</th>\n",
       "      <td>Kaduna</td>\n",
       "      <td>4504</td>\n",
       "      <td>579</td>\n",
       "      <td>3,877</td>\n",
       "      <td>48</td>\n",
       "    </tr>\n",
       "    <tr>\n",
       "      <th>3</th>\n",
       "      <td>Plateau</td>\n",
       "      <td>4262</td>\n",
       "      <td>280</td>\n",
       "      <td>3,948</td>\n",
       "      <td>34</td>\n",
       "    </tr>\n",
       "    <tr>\n",
       "      <th>4</th>\n",
       "      <td>Oyo</td>\n",
       "      <td>3788</td>\n",
       "      <td>368</td>\n",
       "      <td>3,374</td>\n",
       "      <td>46</td>\n",
       "    </tr>\n",
       "    <tr>\n",
       "      <th>5</th>\n",
       "      <td>Rivers</td>\n",
       "      <td>3279</td>\n",
       "      <td>232</td>\n",
       "      <td>2,987</td>\n",
       "      <td>60</td>\n",
       "    </tr>\n",
       "    <tr>\n",
       "      <th>6</th>\n",
       "      <td>Edo</td>\n",
       "      <td>2768</td>\n",
       "      <td>52</td>\n",
       "      <td>2,603</td>\n",
       "      <td>113</td>\n",
       "    </tr>\n",
       "    <tr>\n",
       "      <th>7</th>\n",
       "      <td>Ogun</td>\n",
       "      <td>2382</td>\n",
       "      <td>174</td>\n",
       "      <td>2,175</td>\n",
       "      <td>33</td>\n",
       "    </tr>\n",
       "    <tr>\n",
       "      <th>8</th>\n",
       "      <td>Kano</td>\n",
       "      <td>2032</td>\n",
       "      <td>198</td>\n",
       "      <td>1,778</td>\n",
       "      <td>56</td>\n",
       "    </tr>\n",
       "    <tr>\n",
       "      <th>9</th>\n",
       "      <td>Delta</td>\n",
       "      <td>1843</td>\n",
       "      <td>57</td>\n",
       "      <td>1,737</td>\n",
       "      <td>49</td>\n",
       "    </tr>\n",
       "    <tr>\n",
       "      <th>10</th>\n",
       "      <td>Ondo</td>\n",
       "      <td>1793</td>\n",
       "      <td>62</td>\n",
       "      <td>1,690</td>\n",
       "      <td>41</td>\n",
       "    </tr>\n",
       "    <tr>\n",
       "      <th>11</th>\n",
       "      <td>Katsina</td>\n",
       "      <td>1405</td>\n",
       "      <td>214</td>\n",
       "      <td>1,167</td>\n",
       "      <td>24</td>\n",
       "    </tr>\n",
       "    <tr>\n",
       "      <th>12</th>\n",
       "      <td>Enugu</td>\n",
       "      <td>1376</td>\n",
       "      <td>34</td>\n",
       "      <td>1,321</td>\n",
       "      <td>21</td>\n",
       "    </tr>\n",
       "    <tr>\n",
       "      <th>13</th>\n",
       "      <td>Kwara</td>\n",
       "      <td>1296</td>\n",
       "      <td>171</td>\n",
       "      <td>1,094</td>\n",
       "      <td>31</td>\n",
       "    </tr>\n",
       "    <tr>\n",
       "      <th>14</th>\n",
       "      <td>Gombe</td>\n",
       "      <td>1164</td>\n",
       "      <td>183</td>\n",
       "      <td>950</td>\n",
       "      <td>31</td>\n",
       "    </tr>\n",
       "    <tr>\n",
       "      <th>15</th>\n",
       "      <td>Ebonyi</td>\n",
       "      <td>1091</td>\n",
       "      <td>24</td>\n",
       "      <td>1,037</td>\n",
       "      <td>30</td>\n",
       "    </tr>\n",
       "    <tr>\n",
       "      <th>16</th>\n",
       "      <td>Abia</td>\n",
       "      <td>980</td>\n",
       "      <td>25</td>\n",
       "      <td>945</td>\n",
       "      <td>10</td>\n",
       "    </tr>\n",
       "    <tr>\n",
       "      <th>17</th>\n",
       "      <td>Osun</td>\n",
       "      <td>979</td>\n",
       "      <td>20</td>\n",
       "      <td>937</td>\n",
       "      <td>22</td>\n",
       "    </tr>\n",
       "    <tr>\n",
       "      <th>18</th>\n",
       "      <td>Bauchi</td>\n",
       "      <td>897</td>\n",
       "      <td>108</td>\n",
       "      <td>775</td>\n",
       "      <td>14</td>\n",
       "    </tr>\n",
       "    <tr>\n",
       "      <th>19</th>\n",
       "      <td>Borno</td>\n",
       "      <td>778</td>\n",
       "      <td>37</td>\n",
       "      <td>705</td>\n",
       "      <td>36</td>\n",
       "    </tr>\n",
       "    <tr>\n",
       "      <th>20</th>\n",
       "      <td>Imo</td>\n",
       "      <td>734</td>\n",
       "      <td>61</td>\n",
       "      <td>661</td>\n",
       "      <td>12</td>\n",
       "    </tr>\n",
       "    <tr>\n",
       "      <th>21</th>\n",
       "      <td>Nasarawa</td>\n",
       "      <td>600</td>\n",
       "      <td>262</td>\n",
       "      <td>325</td>\n",
       "      <td>13</td>\n",
       "    </tr>\n",
       "    <tr>\n",
       "      <th>22</th>\n",
       "      <td>Benue</td>\n",
       "      <td>515</td>\n",
       "      <td>44</td>\n",
       "      <td>460</td>\n",
       "      <td>11</td>\n",
       "    </tr>\n",
       "    <tr>\n",
       "      <th>23</th>\n",
       "      <td>Bayelsa</td>\n",
       "      <td>497</td>\n",
       "      <td>55</td>\n",
       "      <td>421</td>\n",
       "      <td>21</td>\n",
       "    </tr>\n",
       "    <tr>\n",
       "      <th>24</th>\n",
       "      <td>Ekiti</td>\n",
       "      <td>405</td>\n",
       "      <td>24</td>\n",
       "      <td>375</td>\n",
       "      <td>6</td>\n",
       "    </tr>\n",
       "    <tr>\n",
       "      <th>25</th>\n",
       "      <td>Akwa Ibom</td>\n",
       "      <td>395</td>\n",
       "      <td>44</td>\n",
       "      <td>342</td>\n",
       "      <td>9</td>\n",
       "    </tr>\n",
       "    <tr>\n",
       "      <th>26</th>\n",
       "      <td>Jigawa</td>\n",
       "      <td>386</td>\n",
       "      <td>57</td>\n",
       "      <td>318</td>\n",
       "      <td>11</td>\n",
       "    </tr>\n",
       "    <tr>\n",
       "      <th>27</th>\n",
       "      <td>Niger</td>\n",
       "      <td>381</td>\n",
       "      <td>69</td>\n",
       "      <td>300</td>\n",
       "      <td>12</td>\n",
       "    </tr>\n",
       "    <tr>\n",
       "      <th>28</th>\n",
       "      <td>Adamawa</td>\n",
       "      <td>355</td>\n",
       "      <td>96</td>\n",
       "      <td>238</td>\n",
       "      <td>21</td>\n",
       "    </tr>\n",
       "    <tr>\n",
       "      <th>29</th>\n",
       "      <td>Anambra</td>\n",
       "      <td>299</td>\n",
       "      <td>6</td>\n",
       "      <td>274</td>\n",
       "      <td>19</td>\n",
       "    </tr>\n",
       "    <tr>\n",
       "      <th>30</th>\n",
       "      <td>Sokoto</td>\n",
       "      <td>228</td>\n",
       "      <td>40</td>\n",
       "      <td>171</td>\n",
       "      <td>17</td>\n",
       "    </tr>\n",
       "    <tr>\n",
       "      <th>31</th>\n",
       "      <td>Taraba</td>\n",
       "      <td>203</td>\n",
       "      <td>19</td>\n",
       "      <td>177</td>\n",
       "      <td>7</td>\n",
       "    </tr>\n",
       "    <tr>\n",
       "      <th>32</th>\n",
       "      <td>Yobe</td>\n",
       "      <td>164</td>\n",
       "      <td>33</td>\n",
       "      <td>123</td>\n",
       "      <td>8</td>\n",
       "    </tr>\n",
       "    <tr>\n",
       "      <th>33</th>\n",
       "      <td>Kebbi</td>\n",
       "      <td>143</td>\n",
       "      <td>5</td>\n",
       "      <td>130</td>\n",
       "      <td>8</td>\n",
       "    </tr>\n",
       "    <tr>\n",
       "      <th>34</th>\n",
       "      <td>Cross River</td>\n",
       "      <td>93</td>\n",
       "      <td>1</td>\n",
       "      <td>81</td>\n",
       "      <td>11</td>\n",
       "    </tr>\n",
       "    <tr>\n",
       "      <th>35</th>\n",
       "      <td>Zamfara</td>\n",
       "      <td>79</td>\n",
       "      <td>1</td>\n",
       "      <td>73</td>\n",
       "      <td>5</td>\n",
       "    </tr>\n",
       "    <tr>\n",
       "      <th>36</th>\n",
       "      <td>Kogi</td>\n",
       "      <td>5</td>\n",
       "      <td>0</td>\n",
       "      <td>3</td>\n",
       "      <td>2</td>\n",
       "    </tr>\n",
       "  </tbody>\n",
       "</table>\n",
       "</div>"
      ],
      "text/plain": [
       "   States Affected No. of Cases (Lab Confirmed) No. of Cases (on admission)  \\\n",
       "0            Lagos                        26708                        2435   \n",
       "1              FCT                         9627                        2840   \n",
       "2           Kaduna                         4504                         579   \n",
       "3          Plateau                         4262                         280   \n",
       "4              Oyo                         3788                         368   \n",
       "5           Rivers                         3279                         232   \n",
       "6              Edo                         2768                          52   \n",
       "7             Ogun                         2382                         174   \n",
       "8             Kano                         2032                         198   \n",
       "9            Delta                         1843                          57   \n",
       "10            Ondo                         1793                          62   \n",
       "11         Katsina                         1405                         214   \n",
       "12           Enugu                         1376                          34   \n",
       "13           Kwara                         1296                         171   \n",
       "14           Gombe                         1164                         183   \n",
       "15          Ebonyi                         1091                          24   \n",
       "16            Abia                          980                          25   \n",
       "17            Osun                          979                          20   \n",
       "18          Bauchi                          897                         108   \n",
       "19           Borno                          778                          37   \n",
       "20             Imo                          734                          61   \n",
       "21        Nasarawa                          600                         262   \n",
       "22           Benue                          515                          44   \n",
       "23         Bayelsa                          497                          55   \n",
       "24           Ekiti                          405                          24   \n",
       "25       Akwa Ibom                          395                          44   \n",
       "26          Jigawa                          386                          57   \n",
       "27           Niger                          381                          69   \n",
       "28         Adamawa                          355                          96   \n",
       "29         Anambra                          299                           6   \n",
       "30          Sokoto                          228                          40   \n",
       "31          Taraba                          203                          19   \n",
       "32            Yobe                          164                          33   \n",
       "33           Kebbi                          143                           5   \n",
       "34     Cross River                           93                           1   \n",
       "35        Zamfara                            79                           1   \n",
       "36            Kogi                            5                           0   \n",
       "\n",
       "   No. Discharged  No. of Deaths  \n",
       "0          24,037            236  \n",
       "1           6,694             93  \n",
       "2           3,877             48  \n",
       "3           3,948             34  \n",
       "4           3,374             46  \n",
       "5           2,987             60  \n",
       "6           2,603            113  \n",
       "7           2,175             33  \n",
       "8           1,778             56  \n",
       "9           1,737             49  \n",
       "10          1,690             41  \n",
       "11          1,167             24  \n",
       "12          1,321             21  \n",
       "13          1,094             31  \n",
       "14            950             31  \n",
       "15          1,037             30  \n",
       "16            945             10  \n",
       "17            937             22  \n",
       "18            775             14  \n",
       "19            705             36  \n",
       "20            661             12  \n",
       "21            325             13  \n",
       "22            460             11  \n",
       "23            421             21  \n",
       "24            375              6  \n",
       "25            342              9  \n",
       "26            318             11  \n",
       "27            300             12  \n",
       "28            238             21  \n",
       "29            274             19  \n",
       "30            171             17  \n",
       "31            177              7  \n",
       "32            123              8  \n",
       "33            130              8  \n",
       "34             81             11  \n",
       "35             73              5  \n",
       "36              3              2  "
      ]
     },
     "execution_count": 6,
     "metadata": {},
     "output_type": "execute_result"
    }
   ],
   "source": [
    "# Remove the comma in No. of Cases (on admission) column\n",
    "df['No. of Cases (on admission)']=df['No. of Cases (on admission)'].str.replace(',','')\n",
    "df"
   ]
  },
  {
   "cell_type": "code",
   "execution_count": null,
   "id": "e37e060c",
   "metadata": {},
   "outputs": [],
   "source": []
  },
  {
   "cell_type": "code",
   "execution_count": 7,
   "id": "87096d10",
   "metadata": {},
   "outputs": [
    {
     "data": {
      "text/html": [
       "<div>\n",
       "<style scoped>\n",
       "    .dataframe tbody tr th:only-of-type {\n",
       "        vertical-align: middle;\n",
       "    }\n",
       "\n",
       "    .dataframe tbody tr th {\n",
       "        vertical-align: top;\n",
       "    }\n",
       "\n",
       "    .dataframe thead th {\n",
       "        text-align: right;\n",
       "    }\n",
       "</style>\n",
       "<table border=\"1\" class=\"dataframe\">\n",
       "  <thead>\n",
       "    <tr style=\"text-align: right;\">\n",
       "      <th></th>\n",
       "      <th>States Affected</th>\n",
       "      <th>No. of Cases (Lab Confirmed)</th>\n",
       "      <th>No. of Cases (on admission)</th>\n",
       "      <th>No. Discharged</th>\n",
       "      <th>No. of Deaths</th>\n",
       "    </tr>\n",
       "  </thead>\n",
       "  <tbody>\n",
       "    <tr>\n",
       "      <th>0</th>\n",
       "      <td>Lagos</td>\n",
       "      <td>26708</td>\n",
       "      <td>2435</td>\n",
       "      <td>24037</td>\n",
       "      <td>236</td>\n",
       "    </tr>\n",
       "    <tr>\n",
       "      <th>1</th>\n",
       "      <td>FCT</td>\n",
       "      <td>9627</td>\n",
       "      <td>2840</td>\n",
       "      <td>6694</td>\n",
       "      <td>93</td>\n",
       "    </tr>\n",
       "    <tr>\n",
       "      <th>2</th>\n",
       "      <td>Kaduna</td>\n",
       "      <td>4504</td>\n",
       "      <td>579</td>\n",
       "      <td>3877</td>\n",
       "      <td>48</td>\n",
       "    </tr>\n",
       "    <tr>\n",
       "      <th>3</th>\n",
       "      <td>Plateau</td>\n",
       "      <td>4262</td>\n",
       "      <td>280</td>\n",
       "      <td>3948</td>\n",
       "      <td>34</td>\n",
       "    </tr>\n",
       "    <tr>\n",
       "      <th>4</th>\n",
       "      <td>Oyo</td>\n",
       "      <td>3788</td>\n",
       "      <td>368</td>\n",
       "      <td>3374</td>\n",
       "      <td>46</td>\n",
       "    </tr>\n",
       "    <tr>\n",
       "      <th>5</th>\n",
       "      <td>Rivers</td>\n",
       "      <td>3279</td>\n",
       "      <td>232</td>\n",
       "      <td>2987</td>\n",
       "      <td>60</td>\n",
       "    </tr>\n",
       "    <tr>\n",
       "      <th>6</th>\n",
       "      <td>Edo</td>\n",
       "      <td>2768</td>\n",
       "      <td>52</td>\n",
       "      <td>2603</td>\n",
       "      <td>113</td>\n",
       "    </tr>\n",
       "    <tr>\n",
       "      <th>7</th>\n",
       "      <td>Ogun</td>\n",
       "      <td>2382</td>\n",
       "      <td>174</td>\n",
       "      <td>2175</td>\n",
       "      <td>33</td>\n",
       "    </tr>\n",
       "    <tr>\n",
       "      <th>8</th>\n",
       "      <td>Kano</td>\n",
       "      <td>2032</td>\n",
       "      <td>198</td>\n",
       "      <td>1778</td>\n",
       "      <td>56</td>\n",
       "    </tr>\n",
       "    <tr>\n",
       "      <th>9</th>\n",
       "      <td>Delta</td>\n",
       "      <td>1843</td>\n",
       "      <td>57</td>\n",
       "      <td>1737</td>\n",
       "      <td>49</td>\n",
       "    </tr>\n",
       "    <tr>\n",
       "      <th>10</th>\n",
       "      <td>Ondo</td>\n",
       "      <td>1793</td>\n",
       "      <td>62</td>\n",
       "      <td>1690</td>\n",
       "      <td>41</td>\n",
       "    </tr>\n",
       "    <tr>\n",
       "      <th>11</th>\n",
       "      <td>Katsina</td>\n",
       "      <td>1405</td>\n",
       "      <td>214</td>\n",
       "      <td>1167</td>\n",
       "      <td>24</td>\n",
       "    </tr>\n",
       "    <tr>\n",
       "      <th>12</th>\n",
       "      <td>Enugu</td>\n",
       "      <td>1376</td>\n",
       "      <td>34</td>\n",
       "      <td>1321</td>\n",
       "      <td>21</td>\n",
       "    </tr>\n",
       "    <tr>\n",
       "      <th>13</th>\n",
       "      <td>Kwara</td>\n",
       "      <td>1296</td>\n",
       "      <td>171</td>\n",
       "      <td>1094</td>\n",
       "      <td>31</td>\n",
       "    </tr>\n",
       "    <tr>\n",
       "      <th>14</th>\n",
       "      <td>Gombe</td>\n",
       "      <td>1164</td>\n",
       "      <td>183</td>\n",
       "      <td>950</td>\n",
       "      <td>31</td>\n",
       "    </tr>\n",
       "    <tr>\n",
       "      <th>15</th>\n",
       "      <td>Ebonyi</td>\n",
       "      <td>1091</td>\n",
       "      <td>24</td>\n",
       "      <td>1037</td>\n",
       "      <td>30</td>\n",
       "    </tr>\n",
       "    <tr>\n",
       "      <th>16</th>\n",
       "      <td>Abia</td>\n",
       "      <td>980</td>\n",
       "      <td>25</td>\n",
       "      <td>945</td>\n",
       "      <td>10</td>\n",
       "    </tr>\n",
       "    <tr>\n",
       "      <th>17</th>\n",
       "      <td>Osun</td>\n",
       "      <td>979</td>\n",
       "      <td>20</td>\n",
       "      <td>937</td>\n",
       "      <td>22</td>\n",
       "    </tr>\n",
       "    <tr>\n",
       "      <th>18</th>\n",
       "      <td>Bauchi</td>\n",
       "      <td>897</td>\n",
       "      <td>108</td>\n",
       "      <td>775</td>\n",
       "      <td>14</td>\n",
       "    </tr>\n",
       "    <tr>\n",
       "      <th>19</th>\n",
       "      <td>Borno</td>\n",
       "      <td>778</td>\n",
       "      <td>37</td>\n",
       "      <td>705</td>\n",
       "      <td>36</td>\n",
       "    </tr>\n",
       "    <tr>\n",
       "      <th>20</th>\n",
       "      <td>Imo</td>\n",
       "      <td>734</td>\n",
       "      <td>61</td>\n",
       "      <td>661</td>\n",
       "      <td>12</td>\n",
       "    </tr>\n",
       "    <tr>\n",
       "      <th>21</th>\n",
       "      <td>Nasarawa</td>\n",
       "      <td>600</td>\n",
       "      <td>262</td>\n",
       "      <td>325</td>\n",
       "      <td>13</td>\n",
       "    </tr>\n",
       "    <tr>\n",
       "      <th>22</th>\n",
       "      <td>Benue</td>\n",
       "      <td>515</td>\n",
       "      <td>44</td>\n",
       "      <td>460</td>\n",
       "      <td>11</td>\n",
       "    </tr>\n",
       "    <tr>\n",
       "      <th>23</th>\n",
       "      <td>Bayelsa</td>\n",
       "      <td>497</td>\n",
       "      <td>55</td>\n",
       "      <td>421</td>\n",
       "      <td>21</td>\n",
       "    </tr>\n",
       "    <tr>\n",
       "      <th>24</th>\n",
       "      <td>Ekiti</td>\n",
       "      <td>405</td>\n",
       "      <td>24</td>\n",
       "      <td>375</td>\n",
       "      <td>6</td>\n",
       "    </tr>\n",
       "    <tr>\n",
       "      <th>25</th>\n",
       "      <td>Akwa Ibom</td>\n",
       "      <td>395</td>\n",
       "      <td>44</td>\n",
       "      <td>342</td>\n",
       "      <td>9</td>\n",
       "    </tr>\n",
       "    <tr>\n",
       "      <th>26</th>\n",
       "      <td>Jigawa</td>\n",
       "      <td>386</td>\n",
       "      <td>57</td>\n",
       "      <td>318</td>\n",
       "      <td>11</td>\n",
       "    </tr>\n",
       "    <tr>\n",
       "      <th>27</th>\n",
       "      <td>Niger</td>\n",
       "      <td>381</td>\n",
       "      <td>69</td>\n",
       "      <td>300</td>\n",
       "      <td>12</td>\n",
       "    </tr>\n",
       "    <tr>\n",
       "      <th>28</th>\n",
       "      <td>Adamawa</td>\n",
       "      <td>355</td>\n",
       "      <td>96</td>\n",
       "      <td>238</td>\n",
       "      <td>21</td>\n",
       "    </tr>\n",
       "    <tr>\n",
       "      <th>29</th>\n",
       "      <td>Anambra</td>\n",
       "      <td>299</td>\n",
       "      <td>6</td>\n",
       "      <td>274</td>\n",
       "      <td>19</td>\n",
       "    </tr>\n",
       "    <tr>\n",
       "      <th>30</th>\n",
       "      <td>Sokoto</td>\n",
       "      <td>228</td>\n",
       "      <td>40</td>\n",
       "      <td>171</td>\n",
       "      <td>17</td>\n",
       "    </tr>\n",
       "    <tr>\n",
       "      <th>31</th>\n",
       "      <td>Taraba</td>\n",
       "      <td>203</td>\n",
       "      <td>19</td>\n",
       "      <td>177</td>\n",
       "      <td>7</td>\n",
       "    </tr>\n",
       "    <tr>\n",
       "      <th>32</th>\n",
       "      <td>Yobe</td>\n",
       "      <td>164</td>\n",
       "      <td>33</td>\n",
       "      <td>123</td>\n",
       "      <td>8</td>\n",
       "    </tr>\n",
       "    <tr>\n",
       "      <th>33</th>\n",
       "      <td>Kebbi</td>\n",
       "      <td>143</td>\n",
       "      <td>5</td>\n",
       "      <td>130</td>\n",
       "      <td>8</td>\n",
       "    </tr>\n",
       "    <tr>\n",
       "      <th>34</th>\n",
       "      <td>Cross River</td>\n",
       "      <td>93</td>\n",
       "      <td>1</td>\n",
       "      <td>81</td>\n",
       "      <td>11</td>\n",
       "    </tr>\n",
       "    <tr>\n",
       "      <th>35</th>\n",
       "      <td>Zamfara</td>\n",
       "      <td>79</td>\n",
       "      <td>1</td>\n",
       "      <td>73</td>\n",
       "      <td>5</td>\n",
       "    </tr>\n",
       "    <tr>\n",
       "      <th>36</th>\n",
       "      <td>Kogi</td>\n",
       "      <td>5</td>\n",
       "      <td>0</td>\n",
       "      <td>3</td>\n",
       "      <td>2</td>\n",
       "    </tr>\n",
       "  </tbody>\n",
       "</table>\n",
       "</div>"
      ],
      "text/plain": [
       "   States Affected No. of Cases (Lab Confirmed) No. of Cases (on admission)  \\\n",
       "0            Lagos                        26708                        2435   \n",
       "1              FCT                         9627                        2840   \n",
       "2           Kaduna                         4504                         579   \n",
       "3          Plateau                         4262                         280   \n",
       "4              Oyo                         3788                         368   \n",
       "5           Rivers                         3279                         232   \n",
       "6              Edo                         2768                          52   \n",
       "7             Ogun                         2382                         174   \n",
       "8             Kano                         2032                         198   \n",
       "9            Delta                         1843                          57   \n",
       "10            Ondo                         1793                          62   \n",
       "11         Katsina                         1405                         214   \n",
       "12           Enugu                         1376                          34   \n",
       "13           Kwara                         1296                         171   \n",
       "14           Gombe                         1164                         183   \n",
       "15          Ebonyi                         1091                          24   \n",
       "16            Abia                          980                          25   \n",
       "17            Osun                          979                          20   \n",
       "18          Bauchi                          897                         108   \n",
       "19           Borno                          778                          37   \n",
       "20             Imo                          734                          61   \n",
       "21        Nasarawa                          600                         262   \n",
       "22           Benue                          515                          44   \n",
       "23         Bayelsa                          497                          55   \n",
       "24           Ekiti                          405                          24   \n",
       "25       Akwa Ibom                          395                          44   \n",
       "26          Jigawa                          386                          57   \n",
       "27           Niger                          381                          69   \n",
       "28         Adamawa                          355                          96   \n",
       "29         Anambra                          299                           6   \n",
       "30          Sokoto                          228                          40   \n",
       "31          Taraba                          203                          19   \n",
       "32            Yobe                          164                          33   \n",
       "33           Kebbi                          143                           5   \n",
       "34     Cross River                           93                           1   \n",
       "35        Zamfara                            79                           1   \n",
       "36            Kogi                            5                           0   \n",
       "\n",
       "   No. Discharged  No. of Deaths  \n",
       "0           24037            236  \n",
       "1            6694             93  \n",
       "2            3877             48  \n",
       "3            3948             34  \n",
       "4            3374             46  \n",
       "5            2987             60  \n",
       "6            2603            113  \n",
       "7            2175             33  \n",
       "8            1778             56  \n",
       "9            1737             49  \n",
       "10           1690             41  \n",
       "11           1167             24  \n",
       "12           1321             21  \n",
       "13           1094             31  \n",
       "14            950             31  \n",
       "15           1037             30  \n",
       "16            945             10  \n",
       "17            937             22  \n",
       "18            775             14  \n",
       "19            705             36  \n",
       "20            661             12  \n",
       "21            325             13  \n",
       "22            460             11  \n",
       "23            421             21  \n",
       "24            375              6  \n",
       "25            342              9  \n",
       "26            318             11  \n",
       "27            300             12  \n",
       "28            238             21  \n",
       "29            274             19  \n",
       "30            171             17  \n",
       "31            177              7  \n",
       "32            123              8  \n",
       "33            130              8  \n",
       "34             81             11  \n",
       "35             73              5  \n",
       "36              3              2  "
      ]
     },
     "execution_count": 7,
     "metadata": {},
     "output_type": "execute_result"
    }
   ],
   "source": [
    "# Remove the comma in No. of Cases (on admission) column\n",
    "df['No. Discharged']=df['No. Discharged'].str.replace(',','')\n",
    "df"
   ]
  },
  {
   "cell_type": "code",
   "execution_count": 8,
   "id": "3450ad9d",
   "metadata": {},
   "outputs": [
    {
     "name": "stdout",
     "output_type": "stream",
     "text": [
      "<class 'pandas.core.frame.DataFrame'>\n",
      "RangeIndex: 37 entries, 0 to 36\n",
      "Data columns (total 5 columns):\n",
      " #   Column                        Non-Null Count  Dtype \n",
      "---  ------                        --------------  ----- \n",
      " 0   States Affected               37 non-null     object\n",
      " 1   No. of Cases (Lab Confirmed)  37 non-null     object\n",
      " 2   No. of Cases (on admission)   37 non-null     object\n",
      " 3   No. Discharged                37 non-null     object\n",
      " 4   No. of Deaths                 37 non-null     int64 \n",
      "dtypes: int64(1), object(4)\n",
      "memory usage: 1.6+ KB\n"
     ]
    }
   ],
   "source": [
    "df.info()"
   ]
  },
  {
   "cell_type": "code",
   "execution_count": null,
   "id": "90d7d6b6",
   "metadata": {},
   "outputs": [],
   "source": []
  },
  {
   "cell_type": "markdown",
   "id": "1aa8232b",
   "metadata": {},
   "source": [
    "Convert all the column objects to integer"
   ]
  },
  {
   "cell_type": "code",
   "execution_count": 9,
   "id": "07e14348",
   "metadata": {},
   "outputs": [
    {
     "name": "stdout",
     "output_type": "stream",
     "text": [
      "<class 'pandas.core.frame.DataFrame'>\n",
      "RangeIndex: 37 entries, 0 to 36\n",
      "Data columns (total 5 columns):\n",
      " #   Column                        Non-Null Count  Dtype \n",
      "---  ------                        --------------  ----- \n",
      " 0   States Affected               37 non-null     object\n",
      " 1   No. of Cases (Lab Confirmed)  37 non-null     int32 \n",
      " 2   No. of Cases (on admission)   37 non-null     object\n",
      " 3   No. Discharged                37 non-null     object\n",
      " 4   No. of Deaths                 37 non-null     int64 \n",
      "dtypes: int32(1), int64(1), object(3)\n",
      "memory usage: 1.4+ KB\n"
     ]
    }
   ],
   "source": [
    "#Convert No. of Cases (Lab Confirmed) object to integer\n",
    "df['No. of Cases (Lab Confirmed)'] = df['No. of Cases (Lab Confirmed)'].astype(str).astype(int)\n",
    "df.info()"
   ]
  },
  {
   "cell_type": "code",
   "execution_count": null,
   "id": "a2b1fd0b",
   "metadata": {},
   "outputs": [],
   "source": []
  },
  {
   "cell_type": "code",
   "execution_count": 10,
   "id": "3c1c8930",
   "metadata": {},
   "outputs": [
    {
     "name": "stdout",
     "output_type": "stream",
     "text": [
      "<class 'pandas.core.frame.DataFrame'>\n",
      "RangeIndex: 37 entries, 0 to 36\n",
      "Data columns (total 5 columns):\n",
      " #   Column                        Non-Null Count  Dtype \n",
      "---  ------                        --------------  ----- \n",
      " 0   States Affected               37 non-null     object\n",
      " 1   No. of Cases (Lab Confirmed)  37 non-null     int32 \n",
      " 2   No. of Cases (on admission)   37 non-null     int32 \n",
      " 3   No. Discharged                37 non-null     object\n",
      " 4   No. of Deaths                 37 non-null     int64 \n",
      "dtypes: int32(2), int64(1), object(2)\n",
      "memory usage: 1.3+ KB\n"
     ]
    }
   ],
   "source": [
    "#Convert No. of Cases (on admission) object to integer\n",
    "df['No. of Cases (on admission)'] = df['No. of Cases (on admission)'].astype(str).astype(int)\n",
    "df.info()"
   ]
  },
  {
   "cell_type": "code",
   "execution_count": null,
   "id": "555b6541",
   "metadata": {},
   "outputs": [],
   "source": []
  },
  {
   "cell_type": "code",
   "execution_count": 11,
   "id": "485536cb",
   "metadata": {},
   "outputs": [
    {
     "name": "stdout",
     "output_type": "stream",
     "text": [
      "<class 'pandas.core.frame.DataFrame'>\n",
      "RangeIndex: 37 entries, 0 to 36\n",
      "Data columns (total 5 columns):\n",
      " #   Column                        Non-Null Count  Dtype \n",
      "---  ------                        --------------  ----- \n",
      " 0   States Affected               37 non-null     object\n",
      " 1   No. of Cases (Lab Confirmed)  37 non-null     int32 \n",
      " 2   No. of Cases (on admission)   37 non-null     int32 \n",
      " 3   No. Discharged                37 non-null     int32 \n",
      " 4   No. of Deaths                 37 non-null     int64 \n",
      "dtypes: int32(3), int64(1), object(1)\n",
      "memory usage: 1.1+ KB\n"
     ]
    }
   ],
   "source": [
    "#Convert No. Discharged object to integer\n",
    "df['No. Discharged'] = df['No. Discharged'].astype(str).astype(int)\n",
    "df.info()"
   ]
  },
  {
   "cell_type": "code",
   "execution_count": 12,
   "id": "cffc8f52",
   "metadata": {},
   "outputs": [
    {
     "data": {
      "text/html": [
       "<div>\n",
       "<style scoped>\n",
       "    .dataframe tbody tr th:only-of-type {\n",
       "        vertical-align: middle;\n",
       "    }\n",
       "\n",
       "    .dataframe tbody tr th {\n",
       "        vertical-align: top;\n",
       "    }\n",
       "\n",
       "    .dataframe thead th {\n",
       "        text-align: right;\n",
       "    }\n",
       "</style>\n",
       "<table border=\"1\" class=\"dataframe\">\n",
       "  <thead>\n",
       "    <tr style=\"text-align: right;\">\n",
       "      <th></th>\n",
       "      <th>States Affected</th>\n",
       "      <th>No. of Cases (Lab Confirmed)</th>\n",
       "      <th>No. of Cases (on admission)</th>\n",
       "      <th>No. Discharged</th>\n",
       "      <th>No. of Deaths</th>\n",
       "    </tr>\n",
       "  </thead>\n",
       "  <tbody>\n",
       "    <tr>\n",
       "      <th>0</th>\n",
       "      <td>Lagos</td>\n",
       "      <td>26708</td>\n",
       "      <td>2435</td>\n",
       "      <td>24037</td>\n",
       "      <td>236</td>\n",
       "    </tr>\n",
       "    <tr>\n",
       "      <th>1</th>\n",
       "      <td>FCT</td>\n",
       "      <td>9627</td>\n",
       "      <td>2840</td>\n",
       "      <td>6694</td>\n",
       "      <td>93</td>\n",
       "    </tr>\n",
       "    <tr>\n",
       "      <th>2</th>\n",
       "      <td>Kaduna</td>\n",
       "      <td>4504</td>\n",
       "      <td>579</td>\n",
       "      <td>3877</td>\n",
       "      <td>48</td>\n",
       "    </tr>\n",
       "    <tr>\n",
       "      <th>3</th>\n",
       "      <td>Plateau</td>\n",
       "      <td>4262</td>\n",
       "      <td>280</td>\n",
       "      <td>3948</td>\n",
       "      <td>34</td>\n",
       "    </tr>\n",
       "    <tr>\n",
       "      <th>4</th>\n",
       "      <td>Oyo</td>\n",
       "      <td>3788</td>\n",
       "      <td>368</td>\n",
       "      <td>3374</td>\n",
       "      <td>46</td>\n",
       "    </tr>\n",
       "    <tr>\n",
       "      <th>5</th>\n",
       "      <td>Rivers</td>\n",
       "      <td>3279</td>\n",
       "      <td>232</td>\n",
       "      <td>2987</td>\n",
       "      <td>60</td>\n",
       "    </tr>\n",
       "    <tr>\n",
       "      <th>6</th>\n",
       "      <td>Edo</td>\n",
       "      <td>2768</td>\n",
       "      <td>52</td>\n",
       "      <td>2603</td>\n",
       "      <td>113</td>\n",
       "    </tr>\n",
       "  </tbody>\n",
       "</table>\n",
       "</div>"
      ],
      "text/plain": [
       "  States Affected  No. of Cases (Lab Confirmed)  No. of Cases (on admission)  \\\n",
       "0           Lagos                         26708                         2435   \n",
       "1             FCT                          9627                         2840   \n",
       "2          Kaduna                          4504                          579   \n",
       "3         Plateau                          4262                          280   \n",
       "4             Oyo                          3788                          368   \n",
       "5          Rivers                          3279                          232   \n",
       "6             Edo                          2768                           52   \n",
       "\n",
       "   No. Discharged  No. of Deaths  \n",
       "0           24037            236  \n",
       "1            6694             93  \n",
       "2            3877             48  \n",
       "3            3948             34  \n",
       "4            3374             46  \n",
       "5            2987             60  \n",
       "6            2603            113  "
      ]
     },
     "execution_count": 12,
     "metadata": {},
     "output_type": "execute_result"
    }
   ],
   "source": [
    "df.head(7)"
   ]
  },
  {
   "cell_type": "code",
   "execution_count": null,
   "id": "75f617d2",
   "metadata": {},
   "outputs": [],
   "source": []
  },
  {
   "cell_type": "code",
   "execution_count": 13,
   "id": "383c0a8f",
   "metadata": {},
   "outputs": [
    {
     "data": {
      "text/plain": [
       "(37, 5)"
      ]
     },
     "execution_count": 13,
     "metadata": {},
     "output_type": "execute_result"
    }
   ],
   "source": [
    "#Check the number of rows and columns present in the data using the shape attribute.\n",
    "df.shape"
   ]
  },
  {
   "cell_type": "code",
   "execution_count": 14,
   "id": "94eec745",
   "metadata": {},
   "outputs": [
    {
     "data": {
      "text/plain": [
       "37"
      ]
     },
     "execution_count": 14,
     "metadata": {},
     "output_type": "execute_result"
    }
   ],
   "source": [
    "df.shape[0]"
   ]
  },
  {
   "cell_type": "code",
   "execution_count": 15,
   "id": "19776153",
   "metadata": {},
   "outputs": [
    {
     "data": {
      "text/plain": [
       "5"
      ]
     },
     "execution_count": 15,
     "metadata": {},
     "output_type": "execute_result"
    }
   ],
   "source": [
    "df.shape[1]"
   ]
  },
  {
   "cell_type": "markdown",
   "id": "073cf481",
   "metadata": {},
   "source": [
    "There are 37 rows and 5 columns"
   ]
  },
  {
   "cell_type": "code",
   "execution_count": null,
   "id": "f37cfd0a",
   "metadata": {},
   "outputs": [],
   "source": []
  },
  {
   "cell_type": "code",
   "execution_count": null,
   "id": "4147463f",
   "metadata": {},
   "outputs": [],
   "source": []
  },
  {
   "cell_type": "code",
   "execution_count": 16,
   "id": "e20e68c6",
   "metadata": {},
   "outputs": [
    {
     "data": {
      "text/html": [
       "<div>\n",
       "<style scoped>\n",
       "    .dataframe tbody tr th:only-of-type {\n",
       "        vertical-align: middle;\n",
       "    }\n",
       "\n",
       "    .dataframe tbody tr th {\n",
       "        vertical-align: top;\n",
       "    }\n",
       "\n",
       "    .dataframe thead th {\n",
       "        text-align: right;\n",
       "    }\n",
       "</style>\n",
       "<table border=\"1\" class=\"dataframe\">\n",
       "  <thead>\n",
       "    <tr style=\"text-align: right;\">\n",
       "      <th></th>\n",
       "      <th>States</th>\n",
       "      <th>Confirmed cases</th>\n",
       "      <th>Admitted cases</th>\n",
       "      <th>Recovered cases</th>\n",
       "      <th>Death</th>\n",
       "    </tr>\n",
       "  </thead>\n",
       "  <tbody>\n",
       "    <tr>\n",
       "      <th>0</th>\n",
       "      <td>Lagos</td>\n",
       "      <td>26708</td>\n",
       "      <td>2435</td>\n",
       "      <td>24037</td>\n",
       "      <td>236</td>\n",
       "    </tr>\n",
       "    <tr>\n",
       "      <th>1</th>\n",
       "      <td>FCT</td>\n",
       "      <td>9627</td>\n",
       "      <td>2840</td>\n",
       "      <td>6694</td>\n",
       "      <td>93</td>\n",
       "    </tr>\n",
       "    <tr>\n",
       "      <th>2</th>\n",
       "      <td>Kaduna</td>\n",
       "      <td>4504</td>\n",
       "      <td>579</td>\n",
       "      <td>3877</td>\n",
       "      <td>48</td>\n",
       "    </tr>\n",
       "    <tr>\n",
       "      <th>3</th>\n",
       "      <td>Plateau</td>\n",
       "      <td>4262</td>\n",
       "      <td>280</td>\n",
       "      <td>3948</td>\n",
       "      <td>34</td>\n",
       "    </tr>\n",
       "    <tr>\n",
       "      <th>4</th>\n",
       "      <td>Oyo</td>\n",
       "      <td>3788</td>\n",
       "      <td>368</td>\n",
       "      <td>3374</td>\n",
       "      <td>46</td>\n",
       "    </tr>\n",
       "  </tbody>\n",
       "</table>\n",
       "</div>"
      ],
      "text/plain": [
       "    States  Confirmed cases  Admitted cases  Recovered cases  Death\n",
       "0    Lagos            26708            2435            24037    236\n",
       "1      FCT             9627            2840             6694     93\n",
       "2   Kaduna             4504             579             3877     48\n",
       "3  Plateau             4262             280             3948     34\n",
       "4      Oyo             3788             368             3374     46"
      ]
     },
     "execution_count": 16,
     "metadata": {},
     "output_type": "execute_result"
    }
   ],
   "source": [
    "#Rename columns\n",
    "df.rename(columns={'States Affected': 'States', \n",
    "                    'No. of Cases (Lab Confirmed)': 'Confirmed cases',\n",
    "                    'No. of Cases (on admission)': 'Admitted cases',\n",
    "                    'No. Discharged':'Recovered cases',\n",
    "                    'No. of Deaths':'Death'}, inplace= True)\n",
    "df.head()\n"
   ]
  },
  {
   "cell_type": "code",
   "execution_count": 17,
   "id": "8283be08",
   "metadata": {},
   "outputs": [
    {
     "data": {
      "text/html": [
       "<div>\n",
       "<style scoped>\n",
       "    .dataframe tbody tr th:only-of-type {\n",
       "        vertical-align: middle;\n",
       "    }\n",
       "\n",
       "    .dataframe tbody tr th {\n",
       "        vertical-align: top;\n",
       "    }\n",
       "\n",
       "    .dataframe thead th {\n",
       "        text-align: right;\n",
       "    }\n",
       "</style>\n",
       "<table border=\"1\" class=\"dataframe\">\n",
       "  <thead>\n",
       "    <tr style=\"text-align: right;\">\n",
       "      <th></th>\n",
       "      <th>States</th>\n",
       "      <th>Confirmed cases</th>\n",
       "      <th>Admitted cases</th>\n",
       "      <th>Recovered cases</th>\n",
       "      <th>Death</th>\n",
       "    </tr>\n",
       "  </thead>\n",
       "  <tbody>\n",
       "    <tr>\n",
       "      <th>34</th>\n",
       "      <td>Cross River</td>\n",
       "      <td>93</td>\n",
       "      <td>1</td>\n",
       "      <td>81</td>\n",
       "      <td>11</td>\n",
       "    </tr>\n",
       "    <tr>\n",
       "      <th>35</th>\n",
       "      <td>Zamfara</td>\n",
       "      <td>79</td>\n",
       "      <td>1</td>\n",
       "      <td>73</td>\n",
       "      <td>5</td>\n",
       "    </tr>\n",
       "    <tr>\n",
       "      <th>36</th>\n",
       "      <td>Kogi</td>\n",
       "      <td>5</td>\n",
       "      <td>0</td>\n",
       "      <td>3</td>\n",
       "      <td>2</td>\n",
       "    </tr>\n",
       "  </tbody>\n",
       "</table>\n",
       "</div>"
      ],
      "text/plain": [
       "         States  Confirmed cases  Admitted cases  Recovered cases  Death\n",
       "34  Cross River               93               1               81     11\n",
       "35     Zamfara                79               1               73      5\n",
       "36         Kogi                5               0                3      2"
      ]
     },
     "execution_count": 17,
     "metadata": {},
     "output_type": "execute_result"
    }
   ],
   "source": [
    "df.tail(3)"
   ]
  },
  {
   "cell_type": "code",
   "execution_count": null,
   "id": "85f1817c",
   "metadata": {},
   "outputs": [],
   "source": []
  },
  {
   "cell_type": "code",
   "execution_count": 18,
   "id": "36085bb3",
   "metadata": {},
   "outputs": [
    {
     "data": {
      "text/html": [
       "<div>\n",
       "<style scoped>\n",
       "    .dataframe tbody tr th:only-of-type {\n",
       "        vertical-align: middle;\n",
       "    }\n",
       "\n",
       "    .dataframe tbody tr th {\n",
       "        vertical-align: top;\n",
       "    }\n",
       "\n",
       "    .dataframe thead th {\n",
       "        text-align: right;\n",
       "    }\n",
       "</style>\n",
       "<table border=\"1\" class=\"dataframe\">\n",
       "  <thead>\n",
       "    <tr style=\"text-align: right;\">\n",
       "      <th></th>\n",
       "      <th>Confirmed cases</th>\n",
       "      <th>Admitted cases</th>\n",
       "      <th>Recovered cases</th>\n",
       "      <th>Death</th>\n",
       "    </tr>\n",
       "  </thead>\n",
       "  <tbody>\n",
       "    <tr>\n",
       "      <th>count</th>\n",
       "      <td>37.000000</td>\n",
       "      <td>37.000000</td>\n",
       "      <td>37.000000</td>\n",
       "      <td>37.000000</td>\n",
       "    </tr>\n",
       "    <tr>\n",
       "      <th>mean</th>\n",
       "      <td>2119.837838</td>\n",
       "      <td>240.810811</td>\n",
       "      <td>1846.027027</td>\n",
       "      <td>33.000000</td>\n",
       "    </tr>\n",
       "    <tr>\n",
       "      <th>std</th>\n",
       "      <td>4537.417740</td>\n",
       "      <td>595.255773</td>\n",
       "      <td>4009.464785</td>\n",
       "      <td>41.797794</td>\n",
       "    </tr>\n",
       "    <tr>\n",
       "      <th>min</th>\n",
       "      <td>5.000000</td>\n",
       "      <td>0.000000</td>\n",
       "      <td>3.000000</td>\n",
       "      <td>2.000000</td>\n",
       "    </tr>\n",
       "    <tr>\n",
       "      <th>25%</th>\n",
       "      <td>381.000000</td>\n",
       "      <td>25.000000</td>\n",
       "      <td>300.000000</td>\n",
       "      <td>11.000000</td>\n",
       "    </tr>\n",
       "    <tr>\n",
       "      <th>50%</th>\n",
       "      <td>897.000000</td>\n",
       "      <td>57.000000</td>\n",
       "      <td>775.000000</td>\n",
       "      <td>21.000000</td>\n",
       "    </tr>\n",
       "    <tr>\n",
       "      <th>75%</th>\n",
       "      <td>1843.000000</td>\n",
       "      <td>183.000000</td>\n",
       "      <td>1737.000000</td>\n",
       "      <td>36.000000</td>\n",
       "    </tr>\n",
       "    <tr>\n",
       "      <th>max</th>\n",
       "      <td>26708.000000</td>\n",
       "      <td>2840.000000</td>\n",
       "      <td>24037.000000</td>\n",
       "      <td>236.000000</td>\n",
       "    </tr>\n",
       "  </tbody>\n",
       "</table>\n",
       "</div>"
      ],
      "text/plain": [
       "       Confirmed cases  Admitted cases  Recovered cases       Death\n",
       "count        37.000000       37.000000        37.000000   37.000000\n",
       "mean       2119.837838      240.810811      1846.027027   33.000000\n",
       "std        4537.417740      595.255773      4009.464785   41.797794\n",
       "min           5.000000        0.000000         3.000000    2.000000\n",
       "25%         381.000000       25.000000       300.000000   11.000000\n",
       "50%         897.000000       57.000000       775.000000   21.000000\n",
       "75%        1843.000000      183.000000      1737.000000   36.000000\n",
       "max       26708.000000     2840.000000     24037.000000  236.000000"
      ]
     },
     "execution_count": 18,
     "metadata": {},
     "output_type": "execute_result"
    }
   ],
   "source": [
    "#Use describe function to generate the statistical summary of the dataframe\n",
    "df.describe()"
   ]
  },
  {
   "cell_type": "markdown",
   "id": "4644dc3a",
   "metadata": {},
   "source": [
    "Comment:\n",
    "* The least death recorded is 2 while the highest death recorded is 236 and the average is 33\n",
    "* The highest Confirmed cases is 26708 and the least is 5 while the average corfirmed case is approximately 2120\n",
    "* The highest admitted cases recorded is 2840 and the average recorded is 241 approximately \n",
    "* Admitted cases took place everyday\n",
    "* Higheset number of patients recover is 24037\n",
    "* Average number of covid19 deaths across all states in Nigeria is 33\n",
    "* Highest number of deaths recorded in a state is 236 and minimum is 4.\n",
    "* 75% of death cases is 36 deaths while 25% of death cases result 11."
   ]
  },
  {
   "cell_type": "code",
   "execution_count": null,
   "id": "883888b8",
   "metadata": {},
   "outputs": [],
   "source": []
  },
  {
   "cell_type": "code",
   "execution_count": 19,
   "id": "660c4c7f",
   "metadata": {},
   "outputs": [
    {
     "data": {
      "text/plain": [
       "1846.027027027027"
      ]
     },
     "execution_count": 19,
     "metadata": {},
     "output_type": "execute_result"
    }
   ],
   "source": [
    "# Extract the average of discharged\n",
    "df['Recovered cases'].mean()"
   ]
  },
  {
   "cell_type": "code",
   "execution_count": null,
   "id": "1c559465",
   "metadata": {},
   "outputs": [],
   "source": []
  },
  {
   "cell_type": "code",
   "execution_count": 20,
   "id": "12b8d4e0",
   "metadata": {},
   "outputs": [
    {
     "data": {
      "text/plain": [
       "24037"
      ]
     },
     "execution_count": 20,
     "metadata": {},
     "output_type": "execute_result"
    }
   ],
   "source": [
    "# Extract the highest number of discharged\n",
    "df['Recovered cases'].max()"
   ]
  },
  {
   "cell_type": "code",
   "execution_count": 21,
   "id": "96bae159",
   "metadata": {},
   "outputs": [
    {
     "data": {
      "text/plain": [
       "3"
      ]
     },
     "execution_count": 21,
     "metadata": {},
     "output_type": "execute_result"
    }
   ],
   "source": [
    "# Extract the least number of discharged\n",
    "df['Recovered cases'].min()"
   ]
  },
  {
   "cell_type": "code",
   "execution_count": 22,
   "id": "f9a9e28c",
   "metadata": {},
   "outputs": [
    {
     "data": {
      "text/plain": [
       "775.0"
      ]
     },
     "execution_count": 22,
     "metadata": {},
     "output_type": "execute_result"
    }
   ],
   "source": [
    "# Extract the middle number of discharged\n",
    "df['Recovered cases'].median()"
   ]
  },
  {
   "cell_type": "code",
   "execution_count": 23,
   "id": "dc3d5921",
   "metadata": {},
   "outputs": [
    {
     "data": {
      "text/plain": [
       "240.8108108108108"
      ]
     },
     "execution_count": 23,
     "metadata": {},
     "output_type": "execute_result"
    }
   ],
   "source": [
    "#Extract the average Admitted cases\n",
    "df['Admitted cases'].mean()"
   ]
  },
  {
   "cell_type": "code",
   "execution_count": null,
   "id": "8c6fb2be",
   "metadata": {},
   "outputs": [],
   "source": []
  },
  {
   "cell_type": "code",
   "execution_count": 24,
   "id": "4b244c81",
   "metadata": {},
   "outputs": [
    {
     "data": {
      "text/plain": [
       "57.0"
      ]
     },
     "execution_count": 24,
     "metadata": {},
     "output_type": "execute_result"
    }
   ],
   "source": [
    "#Extract the median of No. of Cases (on admission)\n",
    "df['Admitted cases'].median()"
   ]
  },
  {
   "cell_type": "code",
   "execution_count": 25,
   "id": "3c8254eb",
   "metadata": {},
   "outputs": [
    {
     "name": "stderr",
     "output_type": "stream",
     "text": [
      "C:\\Users\\user\\AppData\\Local\\Temp\\ipykernel_1148\\2203905562.py:2: FutureWarning: Dropping of nuisance columns in DataFrame reductions (with 'numeric_only=None') is deprecated; in a future version this will raise TypeError.  Select only valid columns before calling the reduction.\n",
      "  df.std().max()\n"
     ]
    },
    {
     "data": {
      "text/plain": [
       "4537.417740383924"
      ]
     },
     "execution_count": 25,
     "metadata": {},
     "output_type": "execute_result"
    }
   ],
   "source": [
    "#Maximum std\n",
    "df.std().max()"
   ]
  },
  {
   "cell_type": "code",
   "execution_count": null,
   "id": "bd494435",
   "metadata": {},
   "outputs": [],
   "source": []
  },
  {
   "cell_type": "code",
   "execution_count": 26,
   "id": "a97b31fc",
   "metadata": {},
   "outputs": [
    {
     "data": {
      "text/plain": [
       "States             0\n",
       "Confirmed cases    0\n",
       "Admitted cases     0\n",
       "Recovered cases    0\n",
       "Death              0\n",
       "dtype: int64"
      ]
     },
     "execution_count": 26,
     "metadata": {},
     "output_type": "execute_result"
    }
   ],
   "source": [
    "# Use of correct method to check for Missing values\n",
    "df.isna().sum()"
   ]
  },
  {
   "cell_type": "markdown",
   "id": "05bd9f7a",
   "metadata": {},
   "source": [
    "Comment:\n",
    "* From the above result, there is no missing value"
   ]
  },
  {
   "cell_type": "code",
   "execution_count": 27,
   "id": "4951dace",
   "metadata": {},
   "outputs": [
    {
     "data": {
      "text/plain": [
       "States             object\n",
       "Confirmed cases     int32\n",
       "Admitted cases      int32\n",
       "Recovered cases     int32\n",
       "Death               int64\n",
       "dtype: object"
      ]
     },
     "execution_count": 27,
     "metadata": {},
     "output_type": "execute_result"
    }
   ],
   "source": [
    "df.dtypes"
   ]
  },
  {
   "cell_type": "code",
   "execution_count": null,
   "id": "75ff0e6c",
   "metadata": {},
   "outputs": [],
   "source": []
  },
  {
   "cell_type": "code",
   "execution_count": 28,
   "id": "9845bc01",
   "metadata": {},
   "outputs": [
    {
     "name": "stderr",
     "output_type": "stream",
     "text": [
      "C:\\Users\\user\\AppData\\Local\\Temp\\ipykernel_1148\\1819305370.py:2: FutureWarning: Dropping of nuisance columns in DataFrame reductions (with 'numeric_only=None') is deprecated; in a future version this will raise TypeError.  Select only valid columns before calling the reduction.\n",
      "  df.std()\n"
     ]
    },
    {
     "data": {
      "text/plain": [
       "Confirmed cases    4537.417740\n",
       "Admitted cases      595.255773\n",
       "Recovered cases    4009.464785\n",
       "Death                41.797794\n",
       "dtype: float64"
      ]
     },
     "execution_count": 28,
     "metadata": {},
     "output_type": "execute_result"
    }
   ],
   "source": [
    "#Extract only the standard deviation\n",
    "df.std()"
   ]
  },
  {
   "cell_type": "code",
   "execution_count": 29,
   "id": "863d10bb",
   "metadata": {},
   "outputs": [
    {
     "name": "stderr",
     "output_type": "stream",
     "text": [
      "C:\\Users\\user\\AppData\\Local\\Temp\\ipykernel_1148\\4293289352.py:2: FutureWarning: Dropping of nuisance columns in DataFrame reductions (with 'numeric_only=None') is deprecated; in a future version this will raise TypeError.  Select only valid columns before calling the reduction.\n",
      "  df.std().max()\n"
     ]
    },
    {
     "data": {
      "text/plain": [
       "4537.417740383924"
      ]
     },
     "execution_count": 29,
     "metadata": {},
     "output_type": "execute_result"
    }
   ],
   "source": [
    "#Extract the highest standard deviation\n",
    "df.std().max()"
   ]
  },
  {
   "cell_type": "markdown",
   "id": "a351ab82",
   "metadata": {},
   "source": [
    "Confirmed cases has the highest standard deviation"
   ]
  },
  {
   "cell_type": "code",
   "execution_count": null,
   "id": "5dd9136e",
   "metadata": {},
   "outputs": [],
   "source": []
  },
  {
   "cell_type": "code",
   "execution_count": 30,
   "id": "88e78dfb",
   "metadata": {},
   "outputs": [
    {
     "name": "stderr",
     "output_type": "stream",
     "text": [
      "C:\\Users\\user\\AppData\\Local\\Temp\\ipykernel_1148\\2696585765.py:2: FutureWarning: Dropping of nuisance columns in DataFrame reductions (with 'numeric_only=None') is deprecated; in a future version this will raise TypeError.  Select only valid columns before calling the reduction.\n",
      "  df.std().min()\n"
     ]
    },
    {
     "data": {
      "text/plain": [
       "41.79779366851264"
      ]
     },
     "execution_count": 30,
     "metadata": {},
     "output_type": "execute_result"
    }
   ],
   "source": [
    "#Confirmed cases has the least standard deviation\n",
    "df.std().min()"
   ]
  },
  {
   "cell_type": "markdown",
   "id": "1e05b352",
   "metadata": {},
   "source": [
    "Death cases has the least standard deviation"
   ]
  },
  {
   "cell_type": "code",
   "execution_count": null,
   "id": "211218ba",
   "metadata": {},
   "outputs": [],
   "source": []
  },
  {
   "cell_type": "code",
   "execution_count": 31,
   "id": "7ebc230c",
   "metadata": {},
   "outputs": [
    {
     "data": {
      "text/html": [
       "<div>\n",
       "<style scoped>\n",
       "    .dataframe tbody tr th:only-of-type {\n",
       "        vertical-align: middle;\n",
       "    }\n",
       "\n",
       "    .dataframe tbody tr th {\n",
       "        vertical-align: top;\n",
       "    }\n",
       "\n",
       "    .dataframe thead th {\n",
       "        text-align: right;\n",
       "    }\n",
       "</style>\n",
       "<table border=\"1\" class=\"dataframe\">\n",
       "  <thead>\n",
       "    <tr style=\"text-align: right;\">\n",
       "      <th></th>\n",
       "      <th>States</th>\n",
       "      <th>Confirmed cases</th>\n",
       "      <th>Admitted cases</th>\n",
       "      <th>Recovered cases</th>\n",
       "      <th>Death</th>\n",
       "    </tr>\n",
       "  </thead>\n",
       "  <tbody>\n",
       "    <tr>\n",
       "      <th>0</th>\n",
       "      <td>Lagos</td>\n",
       "      <td>26708</td>\n",
       "      <td>2435</td>\n",
       "      <td>24037</td>\n",
       "      <td>236</td>\n",
       "    </tr>\n",
       "    <tr>\n",
       "      <th>6</th>\n",
       "      <td>Edo</td>\n",
       "      <td>2768</td>\n",
       "      <td>52</td>\n",
       "      <td>2603</td>\n",
       "      <td>113</td>\n",
       "    </tr>\n",
       "    <tr>\n",
       "      <th>1</th>\n",
       "      <td>FCT</td>\n",
       "      <td>9627</td>\n",
       "      <td>2840</td>\n",
       "      <td>6694</td>\n",
       "      <td>93</td>\n",
       "    </tr>\n",
       "    <tr>\n",
       "      <th>5</th>\n",
       "      <td>Rivers</td>\n",
       "      <td>3279</td>\n",
       "      <td>232</td>\n",
       "      <td>2987</td>\n",
       "      <td>60</td>\n",
       "    </tr>\n",
       "    <tr>\n",
       "      <th>8</th>\n",
       "      <td>Kano</td>\n",
       "      <td>2032</td>\n",
       "      <td>198</td>\n",
       "      <td>1778</td>\n",
       "      <td>56</td>\n",
       "    </tr>\n",
       "  </tbody>\n",
       "</table>\n",
       "</div>"
      ],
      "text/plain": [
       "   States  Confirmed cases  Admitted cases  Recovered cases  Death\n",
       "0   Lagos            26708            2435            24037    236\n",
       "6     Edo             2768              52             2603    113\n",
       "1     FCT             9627            2840             6694     93\n",
       "5  Rivers             3279             232             2987     60\n",
       "8    Kano             2032             198             1778     56"
      ]
     },
     "execution_count": 31,
     "metadata": {},
     "output_type": "execute_result"
    }
   ],
   "source": [
    "#The top 5 highest number of death\n",
    "df.nlargest(5, 'Death')"
   ]
  },
  {
   "cell_type": "code",
   "execution_count": 32,
   "id": "e95d28ff",
   "metadata": {},
   "outputs": [
    {
     "data": {
      "text/html": [
       "<div>\n",
       "<style scoped>\n",
       "    .dataframe tbody tr th:only-of-type {\n",
       "        vertical-align: middle;\n",
       "    }\n",
       "\n",
       "    .dataframe tbody tr th {\n",
       "        vertical-align: top;\n",
       "    }\n",
       "\n",
       "    .dataframe thead th {\n",
       "        text-align: right;\n",
       "    }\n",
       "</style>\n",
       "<table border=\"1\" class=\"dataframe\">\n",
       "  <thead>\n",
       "    <tr style=\"text-align: right;\">\n",
       "      <th></th>\n",
       "      <th>States</th>\n",
       "      <th>Confirmed cases</th>\n",
       "      <th>Admitted cases</th>\n",
       "      <th>Recovered cases</th>\n",
       "      <th>Death</th>\n",
       "    </tr>\n",
       "  </thead>\n",
       "  <tbody>\n",
       "    <tr>\n",
       "      <th>36</th>\n",
       "      <td>Kogi</td>\n",
       "      <td>5</td>\n",
       "      <td>0</td>\n",
       "      <td>3</td>\n",
       "      <td>2</td>\n",
       "    </tr>\n",
       "    <tr>\n",
       "      <th>35</th>\n",
       "      <td>Zamfara</td>\n",
       "      <td>79</td>\n",
       "      <td>1</td>\n",
       "      <td>73</td>\n",
       "      <td>5</td>\n",
       "    </tr>\n",
       "    <tr>\n",
       "      <th>24</th>\n",
       "      <td>Ekiti</td>\n",
       "      <td>405</td>\n",
       "      <td>24</td>\n",
       "      <td>375</td>\n",
       "      <td>6</td>\n",
       "    </tr>\n",
       "    <tr>\n",
       "      <th>31</th>\n",
       "      <td>Taraba</td>\n",
       "      <td>203</td>\n",
       "      <td>19</td>\n",
       "      <td>177</td>\n",
       "      <td>7</td>\n",
       "    </tr>\n",
       "    <tr>\n",
       "      <th>32</th>\n",
       "      <td>Yobe</td>\n",
       "      <td>164</td>\n",
       "      <td>33</td>\n",
       "      <td>123</td>\n",
       "      <td>8</td>\n",
       "    </tr>\n",
       "  </tbody>\n",
       "</table>\n",
       "</div>"
      ],
      "text/plain": [
       "      States  Confirmed cases  Admitted cases  Recovered cases  Death\n",
       "36      Kogi                5               0                3      2\n",
       "35  Zamfara                79               1               73      5\n",
       "24     Ekiti              405              24              375      6\n",
       "31    Taraba              203              19              177      7\n",
       "32      Yobe              164              33              123      8"
      ]
     },
     "execution_count": 32,
     "metadata": {},
     "output_type": "execute_result"
    }
   ],
   "source": [
    "#The top 5 smallest number of death\n",
    "df.nsmallest(5, 'Death')"
   ]
  },
  {
   "cell_type": "code",
   "execution_count": null,
   "id": "0ba3d7c0",
   "metadata": {},
   "outputs": [],
   "source": []
  },
  {
   "cell_type": "code",
   "execution_count": 33,
   "id": "c5a3c54a",
   "metadata": {},
   "outputs": [
    {
     "data": {
      "text/html": [
       "<div>\n",
       "<style scoped>\n",
       "    .dataframe tbody tr th:only-of-type {\n",
       "        vertical-align: middle;\n",
       "    }\n",
       "\n",
       "    .dataframe tbody tr th {\n",
       "        vertical-align: top;\n",
       "    }\n",
       "\n",
       "    .dataframe thead th {\n",
       "        text-align: right;\n",
       "    }\n",
       "</style>\n",
       "<table border=\"1\" class=\"dataframe\">\n",
       "  <thead>\n",
       "    <tr style=\"text-align: right;\">\n",
       "      <th></th>\n",
       "      <th>States</th>\n",
       "      <th>Confirmed cases</th>\n",
       "      <th>Admitted cases</th>\n",
       "      <th>Recovered cases</th>\n",
       "      <th>Death</th>\n",
       "    </tr>\n",
       "  </thead>\n",
       "  <tbody>\n",
       "    <tr>\n",
       "      <th>0</th>\n",
       "      <td>Lagos</td>\n",
       "      <td>26708</td>\n",
       "      <td>2435</td>\n",
       "      <td>24037</td>\n",
       "      <td>236</td>\n",
       "    </tr>\n",
       "    <tr>\n",
       "      <th>1</th>\n",
       "      <td>FCT</td>\n",
       "      <td>9627</td>\n",
       "      <td>2840</td>\n",
       "      <td>6694</td>\n",
       "      <td>93</td>\n",
       "    </tr>\n",
       "    <tr>\n",
       "      <th>2</th>\n",
       "      <td>Kaduna</td>\n",
       "      <td>4504</td>\n",
       "      <td>579</td>\n",
       "      <td>3877</td>\n",
       "      <td>48</td>\n",
       "    </tr>\n",
       "    <tr>\n",
       "      <th>3</th>\n",
       "      <td>Plateau</td>\n",
       "      <td>4262</td>\n",
       "      <td>280</td>\n",
       "      <td>3948</td>\n",
       "      <td>34</td>\n",
       "    </tr>\n",
       "    <tr>\n",
       "      <th>4</th>\n",
       "      <td>Oyo</td>\n",
       "      <td>3788</td>\n",
       "      <td>368</td>\n",
       "      <td>3374</td>\n",
       "      <td>46</td>\n",
       "    </tr>\n",
       "  </tbody>\n",
       "</table>\n",
       "</div>"
      ],
      "text/plain": [
       "    States  Confirmed cases  Admitted cases  Recovered cases  Death\n",
       "0    Lagos            26708            2435            24037    236\n",
       "1      FCT             9627            2840             6694     93\n",
       "2   Kaduna             4504             579             3877     48\n",
       "3  Plateau             4262             280             3948     34\n",
       "4      Oyo             3788             368             3374     46"
      ]
     },
     "execution_count": 33,
     "metadata": {},
     "output_type": "execute_result"
    }
   ],
   "source": [
    "#The top 5 highest number of gross income\n",
    "df.nlargest(5, 'Confirmed cases')"
   ]
  },
  {
   "cell_type": "code",
   "execution_count": 34,
   "id": "64136e3d",
   "metadata": {},
   "outputs": [
    {
     "data": {
      "text/html": [
       "<div>\n",
       "<style scoped>\n",
       "    .dataframe tbody tr th:only-of-type {\n",
       "        vertical-align: middle;\n",
       "    }\n",
       "\n",
       "    .dataframe tbody tr th {\n",
       "        vertical-align: top;\n",
       "    }\n",
       "\n",
       "    .dataframe thead th {\n",
       "        text-align: right;\n",
       "    }\n",
       "</style>\n",
       "<table border=\"1\" class=\"dataframe\">\n",
       "  <thead>\n",
       "    <tr style=\"text-align: right;\">\n",
       "      <th></th>\n",
       "      <th>States</th>\n",
       "      <th>Confirmed cases</th>\n",
       "      <th>Admitted cases</th>\n",
       "      <th>Recovered cases</th>\n",
       "      <th>Death</th>\n",
       "    </tr>\n",
       "  </thead>\n",
       "  <tbody>\n",
       "    <tr>\n",
       "      <th>36</th>\n",
       "      <td>Kogi</td>\n",
       "      <td>5</td>\n",
       "      <td>0</td>\n",
       "      <td>3</td>\n",
       "      <td>2</td>\n",
       "    </tr>\n",
       "    <tr>\n",
       "      <th>34</th>\n",
       "      <td>Cross River</td>\n",
       "      <td>93</td>\n",
       "      <td>1</td>\n",
       "      <td>81</td>\n",
       "      <td>11</td>\n",
       "    </tr>\n",
       "    <tr>\n",
       "      <th>35</th>\n",
       "      <td>Zamfara</td>\n",
       "      <td>79</td>\n",
       "      <td>1</td>\n",
       "      <td>73</td>\n",
       "      <td>5</td>\n",
       "    </tr>\n",
       "    <tr>\n",
       "      <th>33</th>\n",
       "      <td>Kebbi</td>\n",
       "      <td>143</td>\n",
       "      <td>5</td>\n",
       "      <td>130</td>\n",
       "      <td>8</td>\n",
       "    </tr>\n",
       "    <tr>\n",
       "      <th>29</th>\n",
       "      <td>Anambra</td>\n",
       "      <td>299</td>\n",
       "      <td>6</td>\n",
       "      <td>274</td>\n",
       "      <td>19</td>\n",
       "    </tr>\n",
       "    <tr>\n",
       "      <th>31</th>\n",
       "      <td>Taraba</td>\n",
       "      <td>203</td>\n",
       "      <td>19</td>\n",
       "      <td>177</td>\n",
       "      <td>7</td>\n",
       "    </tr>\n",
       "    <tr>\n",
       "      <th>17</th>\n",
       "      <td>Osun</td>\n",
       "      <td>979</td>\n",
       "      <td>20</td>\n",
       "      <td>937</td>\n",
       "      <td>22</td>\n",
       "    </tr>\n",
       "  </tbody>\n",
       "</table>\n",
       "</div>"
      ],
      "text/plain": [
       "         States  Confirmed cases  Admitted cases  Recovered cases  Death\n",
       "36         Kogi                5               0                3      2\n",
       "34  Cross River               93               1               81     11\n",
       "35     Zamfara                79               1               73      5\n",
       "33        Kebbi              143               5              130      8\n",
       "29      Anambra              299               6              274     19\n",
       "31       Taraba              203              19              177      7\n",
       "17         Osun              979              20              937     22"
      ]
     },
     "execution_count": 34,
     "metadata": {},
     "output_type": "execute_result"
    }
   ],
   "source": [
    "#The top 7 smallest number of Admitted cases\n",
    "df.nsmallest(7, 'Admitted cases')"
   ]
  },
  {
   "cell_type": "code",
   "execution_count": 35,
   "id": "eaac1ed4",
   "metadata": {},
   "outputs": [
    {
     "data": {
      "text/html": [
       "<div>\n",
       "<style scoped>\n",
       "    .dataframe tbody tr th:only-of-type {\n",
       "        vertical-align: middle;\n",
       "    }\n",
       "\n",
       "    .dataframe tbody tr th {\n",
       "        vertical-align: top;\n",
       "    }\n",
       "\n",
       "    .dataframe thead th {\n",
       "        text-align: right;\n",
       "    }\n",
       "</style>\n",
       "<table border=\"1\" class=\"dataframe\">\n",
       "  <thead>\n",
       "    <tr style=\"text-align: right;\">\n",
       "      <th></th>\n",
       "      <th>States</th>\n",
       "      <th>Confirmed cases</th>\n",
       "      <th>Admitted cases</th>\n",
       "      <th>Recovered cases</th>\n",
       "      <th>Death</th>\n",
       "    </tr>\n",
       "  </thead>\n",
       "  <tbody>\n",
       "    <tr>\n",
       "      <th>1</th>\n",
       "      <td>FCT</td>\n",
       "      <td>9627</td>\n",
       "      <td>2840</td>\n",
       "      <td>6694</td>\n",
       "      <td>93</td>\n",
       "    </tr>\n",
       "    <tr>\n",
       "      <th>0</th>\n",
       "      <td>Lagos</td>\n",
       "      <td>26708</td>\n",
       "      <td>2435</td>\n",
       "      <td>24037</td>\n",
       "      <td>236</td>\n",
       "    </tr>\n",
       "    <tr>\n",
       "      <th>2</th>\n",
       "      <td>Kaduna</td>\n",
       "      <td>4504</td>\n",
       "      <td>579</td>\n",
       "      <td>3877</td>\n",
       "      <td>48</td>\n",
       "    </tr>\n",
       "    <tr>\n",
       "      <th>4</th>\n",
       "      <td>Oyo</td>\n",
       "      <td>3788</td>\n",
       "      <td>368</td>\n",
       "      <td>3374</td>\n",
       "      <td>46</td>\n",
       "    </tr>\n",
       "    <tr>\n",
       "      <th>3</th>\n",
       "      <td>Plateau</td>\n",
       "      <td>4262</td>\n",
       "      <td>280</td>\n",
       "      <td>3948</td>\n",
       "      <td>34</td>\n",
       "    </tr>\n",
       "    <tr>\n",
       "      <th>21</th>\n",
       "      <td>Nasarawa</td>\n",
       "      <td>600</td>\n",
       "      <td>262</td>\n",
       "      <td>325</td>\n",
       "      <td>13</td>\n",
       "    </tr>\n",
       "    <tr>\n",
       "      <th>5</th>\n",
       "      <td>Rivers</td>\n",
       "      <td>3279</td>\n",
       "      <td>232</td>\n",
       "      <td>2987</td>\n",
       "      <td>60</td>\n",
       "    </tr>\n",
       "  </tbody>\n",
       "</table>\n",
       "</div>"
      ],
      "text/plain": [
       "      States  Confirmed cases  Admitted cases  Recovered cases  Death\n",
       "1        FCT             9627            2840             6694     93\n",
       "0      Lagos            26708            2435            24037    236\n",
       "2     Kaduna             4504             579             3877     48\n",
       "4        Oyo             3788             368             3374     46\n",
       "3    Plateau             4262             280             3948     34\n",
       "21  Nasarawa              600             262              325     13\n",
       "5     Rivers             3279             232             2987     60"
      ]
     },
     "execution_count": 35,
     "metadata": {},
     "output_type": "execute_result"
    }
   ],
   "source": [
    "#The top 5 highest number of Admitted cases\n",
    "df.nlargest(7, 'Admitted cases')"
   ]
  },
  {
   "cell_type": "code",
   "execution_count": null,
   "id": "ec62f596",
   "metadata": {},
   "outputs": [],
   "source": []
  },
  {
   "cell_type": "code",
   "execution_count": 36,
   "id": "8ce30248",
   "metadata": {},
   "outputs": [
    {
     "name": "stdout",
     "output_type": "stream",
     "text": [
      "There are 2 patients died\n"
     ]
    }
   ],
   "source": [
    "#Extract how many patients died where death record cases is less than 50\n",
    "death = df['Death'] > 100\n",
    "print('There are {} patients died'.format(death.sum()))"
   ]
  },
  {
   "cell_type": "code",
   "execution_count": 37,
   "id": "6c6ca43c",
   "metadata": {},
   "outputs": [
    {
     "data": {
      "text/html": [
       "<div>\n",
       "<style scoped>\n",
       "    .dataframe tbody tr th:only-of-type {\n",
       "        vertical-align: middle;\n",
       "    }\n",
       "\n",
       "    .dataframe tbody tr th {\n",
       "        vertical-align: top;\n",
       "    }\n",
       "\n",
       "    .dataframe thead th {\n",
       "        text-align: right;\n",
       "    }\n",
       "</style>\n",
       "<table border=\"1\" class=\"dataframe\">\n",
       "  <thead>\n",
       "    <tr style=\"text-align: right;\">\n",
       "      <th></th>\n",
       "      <th>States</th>\n",
       "      <th>Confirmed cases</th>\n",
       "      <th>Admitted cases</th>\n",
       "      <th>Recovered cases</th>\n",
       "      <th>Death</th>\n",
       "    </tr>\n",
       "  </thead>\n",
       "  <tbody>\n",
       "    <tr>\n",
       "      <th>2</th>\n",
       "      <td>Kaduna</td>\n",
       "      <td>4504</td>\n",
       "      <td>579</td>\n",
       "      <td>3877</td>\n",
       "      <td>48</td>\n",
       "    </tr>\n",
       "    <tr>\n",
       "      <th>3</th>\n",
       "      <td>Plateau</td>\n",
       "      <td>4262</td>\n",
       "      <td>280</td>\n",
       "      <td>3948</td>\n",
       "      <td>34</td>\n",
       "    </tr>\n",
       "    <tr>\n",
       "      <th>4</th>\n",
       "      <td>Oyo</td>\n",
       "      <td>3788</td>\n",
       "      <td>368</td>\n",
       "      <td>3374</td>\n",
       "      <td>46</td>\n",
       "    </tr>\n",
       "    <tr>\n",
       "      <th>7</th>\n",
       "      <td>Ogun</td>\n",
       "      <td>2382</td>\n",
       "      <td>174</td>\n",
       "      <td>2175</td>\n",
       "      <td>33</td>\n",
       "    </tr>\n",
       "    <tr>\n",
       "      <th>9</th>\n",
       "      <td>Delta</td>\n",
       "      <td>1843</td>\n",
       "      <td>57</td>\n",
       "      <td>1737</td>\n",
       "      <td>49</td>\n",
       "    </tr>\n",
       "    <tr>\n",
       "      <th>10</th>\n",
       "      <td>Ondo</td>\n",
       "      <td>1793</td>\n",
       "      <td>62</td>\n",
       "      <td>1690</td>\n",
       "      <td>41</td>\n",
       "    </tr>\n",
       "    <tr>\n",
       "      <th>11</th>\n",
       "      <td>Katsina</td>\n",
       "      <td>1405</td>\n",
       "      <td>214</td>\n",
       "      <td>1167</td>\n",
       "      <td>24</td>\n",
       "    </tr>\n",
       "    <tr>\n",
       "      <th>12</th>\n",
       "      <td>Enugu</td>\n",
       "      <td>1376</td>\n",
       "      <td>34</td>\n",
       "      <td>1321</td>\n",
       "      <td>21</td>\n",
       "    </tr>\n",
       "    <tr>\n",
       "      <th>13</th>\n",
       "      <td>Kwara</td>\n",
       "      <td>1296</td>\n",
       "      <td>171</td>\n",
       "      <td>1094</td>\n",
       "      <td>31</td>\n",
       "    </tr>\n",
       "    <tr>\n",
       "      <th>14</th>\n",
       "      <td>Gombe</td>\n",
       "      <td>1164</td>\n",
       "      <td>183</td>\n",
       "      <td>950</td>\n",
       "      <td>31</td>\n",
       "    </tr>\n",
       "    <tr>\n",
       "      <th>15</th>\n",
       "      <td>Ebonyi</td>\n",
       "      <td>1091</td>\n",
       "      <td>24</td>\n",
       "      <td>1037</td>\n",
       "      <td>30</td>\n",
       "    </tr>\n",
       "    <tr>\n",
       "      <th>16</th>\n",
       "      <td>Abia</td>\n",
       "      <td>980</td>\n",
       "      <td>25</td>\n",
       "      <td>945</td>\n",
       "      <td>10</td>\n",
       "    </tr>\n",
       "    <tr>\n",
       "      <th>17</th>\n",
       "      <td>Osun</td>\n",
       "      <td>979</td>\n",
       "      <td>20</td>\n",
       "      <td>937</td>\n",
       "      <td>22</td>\n",
       "    </tr>\n",
       "    <tr>\n",
       "      <th>18</th>\n",
       "      <td>Bauchi</td>\n",
       "      <td>897</td>\n",
       "      <td>108</td>\n",
       "      <td>775</td>\n",
       "      <td>14</td>\n",
       "    </tr>\n",
       "    <tr>\n",
       "      <th>19</th>\n",
       "      <td>Borno</td>\n",
       "      <td>778</td>\n",
       "      <td>37</td>\n",
       "      <td>705</td>\n",
       "      <td>36</td>\n",
       "    </tr>\n",
       "    <tr>\n",
       "      <th>20</th>\n",
       "      <td>Imo</td>\n",
       "      <td>734</td>\n",
       "      <td>61</td>\n",
       "      <td>661</td>\n",
       "      <td>12</td>\n",
       "    </tr>\n",
       "    <tr>\n",
       "      <th>21</th>\n",
       "      <td>Nasarawa</td>\n",
       "      <td>600</td>\n",
       "      <td>262</td>\n",
       "      <td>325</td>\n",
       "      <td>13</td>\n",
       "    </tr>\n",
       "    <tr>\n",
       "      <th>22</th>\n",
       "      <td>Benue</td>\n",
       "      <td>515</td>\n",
       "      <td>44</td>\n",
       "      <td>460</td>\n",
       "      <td>11</td>\n",
       "    </tr>\n",
       "    <tr>\n",
       "      <th>23</th>\n",
       "      <td>Bayelsa</td>\n",
       "      <td>497</td>\n",
       "      <td>55</td>\n",
       "      <td>421</td>\n",
       "      <td>21</td>\n",
       "    </tr>\n",
       "    <tr>\n",
       "      <th>24</th>\n",
       "      <td>Ekiti</td>\n",
       "      <td>405</td>\n",
       "      <td>24</td>\n",
       "      <td>375</td>\n",
       "      <td>6</td>\n",
       "    </tr>\n",
       "    <tr>\n",
       "      <th>25</th>\n",
       "      <td>Akwa Ibom</td>\n",
       "      <td>395</td>\n",
       "      <td>44</td>\n",
       "      <td>342</td>\n",
       "      <td>9</td>\n",
       "    </tr>\n",
       "    <tr>\n",
       "      <th>26</th>\n",
       "      <td>Jigawa</td>\n",
       "      <td>386</td>\n",
       "      <td>57</td>\n",
       "      <td>318</td>\n",
       "      <td>11</td>\n",
       "    </tr>\n",
       "    <tr>\n",
       "      <th>27</th>\n",
       "      <td>Niger</td>\n",
       "      <td>381</td>\n",
       "      <td>69</td>\n",
       "      <td>300</td>\n",
       "      <td>12</td>\n",
       "    </tr>\n",
       "    <tr>\n",
       "      <th>28</th>\n",
       "      <td>Adamawa</td>\n",
       "      <td>355</td>\n",
       "      <td>96</td>\n",
       "      <td>238</td>\n",
       "      <td>21</td>\n",
       "    </tr>\n",
       "    <tr>\n",
       "      <th>29</th>\n",
       "      <td>Anambra</td>\n",
       "      <td>299</td>\n",
       "      <td>6</td>\n",
       "      <td>274</td>\n",
       "      <td>19</td>\n",
       "    </tr>\n",
       "    <tr>\n",
       "      <th>30</th>\n",
       "      <td>Sokoto</td>\n",
       "      <td>228</td>\n",
       "      <td>40</td>\n",
       "      <td>171</td>\n",
       "      <td>17</td>\n",
       "    </tr>\n",
       "    <tr>\n",
       "      <th>31</th>\n",
       "      <td>Taraba</td>\n",
       "      <td>203</td>\n",
       "      <td>19</td>\n",
       "      <td>177</td>\n",
       "      <td>7</td>\n",
       "    </tr>\n",
       "    <tr>\n",
       "      <th>32</th>\n",
       "      <td>Yobe</td>\n",
       "      <td>164</td>\n",
       "      <td>33</td>\n",
       "      <td>123</td>\n",
       "      <td>8</td>\n",
       "    </tr>\n",
       "    <tr>\n",
       "      <th>33</th>\n",
       "      <td>Kebbi</td>\n",
       "      <td>143</td>\n",
       "      <td>5</td>\n",
       "      <td>130</td>\n",
       "      <td>8</td>\n",
       "    </tr>\n",
       "    <tr>\n",
       "      <th>34</th>\n",
       "      <td>Cross River</td>\n",
       "      <td>93</td>\n",
       "      <td>1</td>\n",
       "      <td>81</td>\n",
       "      <td>11</td>\n",
       "    </tr>\n",
       "    <tr>\n",
       "      <th>35</th>\n",
       "      <td>Zamfara</td>\n",
       "      <td>79</td>\n",
       "      <td>1</td>\n",
       "      <td>73</td>\n",
       "      <td>5</td>\n",
       "    </tr>\n",
       "    <tr>\n",
       "      <th>36</th>\n",
       "      <td>Kogi</td>\n",
       "      <td>5</td>\n",
       "      <td>0</td>\n",
       "      <td>3</td>\n",
       "      <td>2</td>\n",
       "    </tr>\n",
       "  </tbody>\n",
       "</table>\n",
       "</div>"
      ],
      "text/plain": [
       "         States  Confirmed cases  Admitted cases  Recovered cases  Death\n",
       "2        Kaduna             4504             579             3877     48\n",
       "3       Plateau             4262             280             3948     34\n",
       "4           Oyo             3788             368             3374     46\n",
       "7          Ogun             2382             174             2175     33\n",
       "9         Delta             1843              57             1737     49\n",
       "10         Ondo             1793              62             1690     41\n",
       "11      Katsina             1405             214             1167     24\n",
       "12        Enugu             1376              34             1321     21\n",
       "13        Kwara             1296             171             1094     31\n",
       "14        Gombe             1164             183              950     31\n",
       "15       Ebonyi             1091              24             1037     30\n",
       "16         Abia              980              25              945     10\n",
       "17         Osun              979              20              937     22\n",
       "18       Bauchi              897             108              775     14\n",
       "19        Borno              778              37              705     36\n",
       "20          Imo              734              61              661     12\n",
       "21     Nasarawa              600             262              325     13\n",
       "22        Benue              515              44              460     11\n",
       "23      Bayelsa              497              55              421     21\n",
       "24        Ekiti              405              24              375      6\n",
       "25    Akwa Ibom              395              44              342      9\n",
       "26       Jigawa              386              57              318     11\n",
       "27        Niger              381              69              300     12\n",
       "28      Adamawa              355              96              238     21\n",
       "29      Anambra              299               6              274     19\n",
       "30       Sokoto              228              40              171     17\n",
       "31       Taraba              203              19              177      7\n",
       "32         Yobe              164              33              123      8\n",
       "33        Kebbi              143               5              130      8\n",
       "34  Cross River               93               1               81     11\n",
       "35     Zamfara                79               1               73      5\n",
       "36         Kogi                5               0                3      2"
      ]
     },
     "execution_count": 37,
     "metadata": {},
     "output_type": "execute_result"
    }
   ],
   "source": [
    "df[df['Death'] < 50]"
   ]
  },
  {
   "cell_type": "code",
   "execution_count": null,
   "id": "c3981512",
   "metadata": {},
   "outputs": [],
   "source": []
  },
  {
   "cell_type": "code",
   "execution_count": 38,
   "id": "121206a4",
   "metadata": {},
   "outputs": [
    {
     "name": "stdout",
     "output_type": "stream",
     "text": [
      "There are 8 patients discharged\n"
     ]
    }
   ],
   "source": [
    "#Extract how many patients died where death record cases is less than 50\n",
    "dis = df['Recovered cases'] > 2000\n",
    "print('There are {} patients discharged'.format(dis.sum()))"
   ]
  },
  {
   "cell_type": "code",
   "execution_count": 39,
   "id": "f574550e",
   "metadata": {},
   "outputs": [
    {
     "data": {
      "text/html": [
       "<div>\n",
       "<style scoped>\n",
       "    .dataframe tbody tr th:only-of-type {\n",
       "        vertical-align: middle;\n",
       "    }\n",
       "\n",
       "    .dataframe tbody tr th {\n",
       "        vertical-align: top;\n",
       "    }\n",
       "\n",
       "    .dataframe thead th {\n",
       "        text-align: right;\n",
       "    }\n",
       "</style>\n",
       "<table border=\"1\" class=\"dataframe\">\n",
       "  <thead>\n",
       "    <tr style=\"text-align: right;\">\n",
       "      <th></th>\n",
       "      <th>States</th>\n",
       "      <th>Confirmed cases</th>\n",
       "      <th>Admitted cases</th>\n",
       "      <th>Recovered cases</th>\n",
       "      <th>Death</th>\n",
       "    </tr>\n",
       "  </thead>\n",
       "  <tbody>\n",
       "    <tr>\n",
       "      <th>0</th>\n",
       "      <td>Lagos</td>\n",
       "      <td>26708</td>\n",
       "      <td>2435</td>\n",
       "      <td>24037</td>\n",
       "      <td>236</td>\n",
       "    </tr>\n",
       "    <tr>\n",
       "      <th>1</th>\n",
       "      <td>FCT</td>\n",
       "      <td>9627</td>\n",
       "      <td>2840</td>\n",
       "      <td>6694</td>\n",
       "      <td>93</td>\n",
       "    </tr>\n",
       "    <tr>\n",
       "      <th>2</th>\n",
       "      <td>Kaduna</td>\n",
       "      <td>4504</td>\n",
       "      <td>579</td>\n",
       "      <td>3877</td>\n",
       "      <td>48</td>\n",
       "    </tr>\n",
       "    <tr>\n",
       "      <th>3</th>\n",
       "      <td>Plateau</td>\n",
       "      <td>4262</td>\n",
       "      <td>280</td>\n",
       "      <td>3948</td>\n",
       "      <td>34</td>\n",
       "    </tr>\n",
       "    <tr>\n",
       "      <th>4</th>\n",
       "      <td>Oyo</td>\n",
       "      <td>3788</td>\n",
       "      <td>368</td>\n",
       "      <td>3374</td>\n",
       "      <td>46</td>\n",
       "    </tr>\n",
       "    <tr>\n",
       "      <th>5</th>\n",
       "      <td>Rivers</td>\n",
       "      <td>3279</td>\n",
       "      <td>232</td>\n",
       "      <td>2987</td>\n",
       "      <td>60</td>\n",
       "    </tr>\n",
       "    <tr>\n",
       "      <th>6</th>\n",
       "      <td>Edo</td>\n",
       "      <td>2768</td>\n",
       "      <td>52</td>\n",
       "      <td>2603</td>\n",
       "      <td>113</td>\n",
       "    </tr>\n",
       "    <tr>\n",
       "      <th>7</th>\n",
       "      <td>Ogun</td>\n",
       "      <td>2382</td>\n",
       "      <td>174</td>\n",
       "      <td>2175</td>\n",
       "      <td>33</td>\n",
       "    </tr>\n",
       "  </tbody>\n",
       "</table>\n",
       "</div>"
      ],
      "text/plain": [
       "    States  Confirmed cases  Admitted cases  Recovered cases  Death\n",
       "0    Lagos            26708            2435            24037    236\n",
       "1      FCT             9627            2840             6694     93\n",
       "2   Kaduna             4504             579             3877     48\n",
       "3  Plateau             4262             280             3948     34\n",
       "4      Oyo             3788             368             3374     46\n",
       "5   Rivers             3279             232             2987     60\n",
       "6      Edo             2768              52             2603    113\n",
       "7     Ogun             2382             174             2175     33"
      ]
     },
     "execution_count": 39,
     "metadata": {},
     "output_type": "execute_result"
    }
   ],
   "source": [
    "#Extract the information of patients whose number of discharged is above 2000 \n",
    "df[df['Recovered cases'] > 2000]"
   ]
  },
  {
   "cell_type": "code",
   "execution_count": null,
   "id": "4779ca2e",
   "metadata": {},
   "outputs": [],
   "source": []
  },
  {
   "cell_type": "code",
   "execution_count": 40,
   "id": "341467d9",
   "metadata": {},
   "outputs": [
    {
     "data": {
      "text/html": [
       "<div>\n",
       "<style scoped>\n",
       "    .dataframe tbody tr th:only-of-type {\n",
       "        vertical-align: middle;\n",
       "    }\n",
       "\n",
       "    .dataframe tbody tr th {\n",
       "        vertical-align: top;\n",
       "    }\n",
       "\n",
       "    .dataframe thead th {\n",
       "        text-align: right;\n",
       "    }\n",
       "</style>\n",
       "<table border=\"1\" class=\"dataframe\">\n",
       "  <thead>\n",
       "    <tr style=\"text-align: right;\">\n",
       "      <th></th>\n",
       "      <th>States</th>\n",
       "      <th>Recovered cases</th>\n",
       "    </tr>\n",
       "  </thead>\n",
       "  <tbody>\n",
       "    <tr>\n",
       "      <th>0</th>\n",
       "      <td>Lagos</td>\n",
       "      <td>24037</td>\n",
       "    </tr>\n",
       "    <tr>\n",
       "      <th>1</th>\n",
       "      <td>FCT</td>\n",
       "      <td>6694</td>\n",
       "    </tr>\n",
       "    <tr>\n",
       "      <th>2</th>\n",
       "      <td>Kaduna</td>\n",
       "      <td>3877</td>\n",
       "    </tr>\n",
       "    <tr>\n",
       "      <th>3</th>\n",
       "      <td>Plateau</td>\n",
       "      <td>3948</td>\n",
       "    </tr>\n",
       "    <tr>\n",
       "      <th>4</th>\n",
       "      <td>Oyo</td>\n",
       "      <td>3374</td>\n",
       "    </tr>\n",
       "    <tr>\n",
       "      <th>5</th>\n",
       "      <td>Rivers</td>\n",
       "      <td>2987</td>\n",
       "    </tr>\n",
       "    <tr>\n",
       "      <th>6</th>\n",
       "      <td>Edo</td>\n",
       "      <td>2603</td>\n",
       "    </tr>\n",
       "    <tr>\n",
       "      <th>7</th>\n",
       "      <td>Ogun</td>\n",
       "      <td>2175</td>\n",
       "    </tr>\n",
       "  </tbody>\n",
       "</table>\n",
       "</div>"
      ],
      "text/plain": [
       "    States  Recovered cases\n",
       "0    Lagos            24037\n",
       "1      FCT             6694\n",
       "2   Kaduna             3877\n",
       "3  Plateau             3948\n",
       "4      Oyo             3374\n",
       "5   Rivers             2987\n",
       "6      Edo             2603\n",
       "7     Ogun             2175"
      ]
     },
     "execution_count": 40,
     "metadata": {},
     "output_type": "execute_result"
    }
   ],
   "source": [
    "#Extract number of Discharged across different states\n",
    "df[['States', 'Recovered cases']].head(8)"
   ]
  },
  {
   "cell_type": "code",
   "execution_count": 41,
   "id": "b549dba9",
   "metadata": {},
   "outputs": [
    {
     "data": {
      "text/html": [
       "<div>\n",
       "<style scoped>\n",
       "    .dataframe tbody tr th:only-of-type {\n",
       "        vertical-align: middle;\n",
       "    }\n",
       "\n",
       "    .dataframe tbody tr th {\n",
       "        vertical-align: top;\n",
       "    }\n",
       "\n",
       "    .dataframe thead th {\n",
       "        text-align: right;\n",
       "    }\n",
       "</style>\n",
       "<table border=\"1\" class=\"dataframe\">\n",
       "  <thead>\n",
       "    <tr style=\"text-align: right;\">\n",
       "      <th></th>\n",
       "      <th>Death</th>\n",
       "      <th>States</th>\n",
       "    </tr>\n",
       "  </thead>\n",
       "  <tbody>\n",
       "    <tr>\n",
       "      <th>0</th>\n",
       "      <td>236</td>\n",
       "      <td>Lagos</td>\n",
       "    </tr>\n",
       "    <tr>\n",
       "      <th>1</th>\n",
       "      <td>93</td>\n",
       "      <td>FCT</td>\n",
       "    </tr>\n",
       "    <tr>\n",
       "      <th>2</th>\n",
       "      <td>48</td>\n",
       "      <td>Kaduna</td>\n",
       "    </tr>\n",
       "    <tr>\n",
       "      <th>3</th>\n",
       "      <td>34</td>\n",
       "      <td>Plateau</td>\n",
       "    </tr>\n",
       "    <tr>\n",
       "      <th>4</th>\n",
       "      <td>46</td>\n",
       "      <td>Oyo</td>\n",
       "    </tr>\n",
       "  </tbody>\n",
       "</table>\n",
       "</div>"
      ],
      "text/plain": [
       "   Death   States\n",
       "0    236    Lagos\n",
       "1     93      FCT\n",
       "2     48   Kaduna\n",
       "3     34  Plateau\n",
       "4     46      Oyo"
      ]
     },
     "execution_count": 41,
     "metadata": {},
     "output_type": "execute_result"
    }
   ],
   "source": [
    "#Accessing death records for first 5 states\n",
    "df.loc[0:4,['Death', 'States']]"
   ]
  },
  {
   "cell_type": "code",
   "execution_count": null,
   "id": "69ca1d5f",
   "metadata": {},
   "outputs": [],
   "source": []
  },
  {
   "cell_type": "code",
   "execution_count": null,
   "id": "082bdb7e",
   "metadata": {},
   "outputs": [],
   "source": []
  },
  {
   "cell_type": "markdown",
   "id": "3bf298a5",
   "metadata": {},
   "source": [
    "### Unique Values in Columns"
   ]
  },
  {
   "cell_type": "code",
   "execution_count": 42,
   "id": "ac6be3d1",
   "metadata": {},
   "outputs": [
    {
     "data": {
      "text/plain": [
       "Index(['States', 'Confirmed cases', 'Admitted cases', 'Recovered cases',\n",
       "       'Death'],\n",
       "      dtype='object')"
      ]
     },
     "execution_count": 42,
     "metadata": {},
     "output_type": "execute_result"
    }
   ],
   "source": [
    "#Generate the names of the columns using the columns attribute\n",
    "df.columns"
   ]
  },
  {
   "cell_type": "code",
   "execution_count": 43,
   "id": "5dc13e07",
   "metadata": {},
   "outputs": [
    {
     "name": "stdout",
     "output_type": "stream",
     "text": [
      "States\n",
      "Confirmed cases\n",
      "Admitted cases\n",
      "Recovered cases\n",
      "Death\n"
     ]
    }
   ],
   "source": [
    "for i in df.columns:\n",
    "    print(i)"
   ]
  },
  {
   "cell_type": "code",
   "execution_count": null,
   "id": "fdfbcea1",
   "metadata": {},
   "outputs": [],
   "source": []
  },
  {
   "cell_type": "code",
   "execution_count": 44,
   "id": "96d8f515",
   "metadata": {},
   "outputs": [
    {
     "data": {
      "text/plain": [
       "['Lagos',\n",
       " 'FCT',\n",
       " 'Kaduna',\n",
       " 'Plateau',\n",
       " 'Oyo',\n",
       " 'Rivers',\n",
       " 'Edo',\n",
       " 'Ogun',\n",
       " 'Kano',\n",
       " 'Delta',\n",
       " 'Ondo',\n",
       " 'Katsina',\n",
       " 'Enugu',\n",
       " 'Kwara',\n",
       " 'Gombe',\n",
       " 'Ebonyi',\n",
       " 'Abia',\n",
       " 'Osun',\n",
       " 'Bauchi',\n",
       " 'Borno',\n",
       " 'Imo',\n",
       " 'Nasarawa',\n",
       " 'Benue',\n",
       " 'Bayelsa',\n",
       " 'Ekiti',\n",
       " 'Akwa Ibom',\n",
       " 'Jigawa',\n",
       " 'Niger',\n",
       " 'Adamawa',\n",
       " 'Anambra',\n",
       " 'Sokoto',\n",
       " 'Taraba',\n",
       " 'Yobe',\n",
       " 'Kebbi',\n",
       " 'Cross River',\n",
       " 'Zamfara ',\n",
       " 'Kogi']"
      ]
     },
     "execution_count": 44,
     "metadata": {},
     "output_type": "execute_result"
    }
   ],
   "source": [
    "#Generated the count figure of the States values using the tolist method.\n",
    "df['States'].unique().tolist()"
   ]
  },
  {
   "cell_type": "code",
   "execution_count": null,
   "id": "2689d740",
   "metadata": {},
   "outputs": [],
   "source": []
  },
  {
   "cell_type": "code",
   "execution_count": 45,
   "id": "58491d78",
   "metadata": {},
   "outputs": [
    {
     "name": "stdout",
     "output_type": "stream",
     "text": [
      "There are 37 affected states\n"
     ]
    }
   ],
   "source": [
    "print(\"There are {} affected states\". format(len(df['States'].unique().tolist())))"
   ]
  },
  {
   "cell_type": "code",
   "execution_count": null,
   "id": "0ca847a2",
   "metadata": {},
   "outputs": [],
   "source": []
  },
  {
   "cell_type": "code",
   "execution_count": 46,
   "id": "2c28e3aa",
   "metadata": {},
   "outputs": [
    {
     "name": "stdout",
     "output_type": "stream",
     "text": [
      "[236  93  48  34  46  60 113  33  56  49  41  24  21  31  30  10  22  14\n",
      "  36  12  13  11   6   9  19  17   7   8   5   2]\n"
     ]
    }
   ],
   "source": [
    "#Print out the death recorde for each state\n",
    "print(df['Death'].unique())"
   ]
  },
  {
   "cell_type": "code",
   "execution_count": null,
   "id": "0c7cceaa",
   "metadata": {},
   "outputs": [],
   "source": []
  },
  {
   "cell_type": "markdown",
   "id": "00cdd68e",
   "metadata": {},
   "source": [
    "### Aggregation with GroupBy"
   ]
  },
  {
   "cell_type": "code",
   "execution_count": null,
   "id": "88e5be4d",
   "metadata": {},
   "outputs": [],
   "source": []
  },
  {
   "cell_type": "code",
   "execution_count": 47,
   "id": "34895a85",
   "metadata": {},
   "outputs": [
    {
     "data": {
      "text/html": [
       "<div>\n",
       "<style scoped>\n",
       "    .dataframe tbody tr th:only-of-type {\n",
       "        vertical-align: middle;\n",
       "    }\n",
       "\n",
       "    .dataframe tbody tr th {\n",
       "        vertical-align: top;\n",
       "    }\n",
       "\n",
       "    .dataframe thead tr th {\n",
       "        text-align: left;\n",
       "    }\n",
       "\n",
       "    .dataframe thead tr:last-of-type th {\n",
       "        text-align: right;\n",
       "    }\n",
       "</style>\n",
       "<table border=\"1\" class=\"dataframe\">\n",
       "  <thead>\n",
       "    <tr>\n",
       "      <th></th>\n",
       "      <th colspan=\"2\" halign=\"left\">Confirmed cases</th>\n",
       "      <th colspan=\"2\" halign=\"left\">Admitted cases</th>\n",
       "      <th colspan=\"2\" halign=\"left\">Recovered cases</th>\n",
       "      <th colspan=\"2\" halign=\"left\">Death</th>\n",
       "    </tr>\n",
       "    <tr>\n",
       "      <th></th>\n",
       "      <th>sum</th>\n",
       "      <th>mean</th>\n",
       "      <th>sum</th>\n",
       "      <th>mean</th>\n",
       "      <th>sum</th>\n",
       "      <th>mean</th>\n",
       "      <th>sum</th>\n",
       "      <th>mean</th>\n",
       "    </tr>\n",
       "    <tr>\n",
       "      <th>States</th>\n",
       "      <th></th>\n",
       "      <th></th>\n",
       "      <th></th>\n",
       "      <th></th>\n",
       "      <th></th>\n",
       "      <th></th>\n",
       "      <th></th>\n",
       "      <th></th>\n",
       "    </tr>\n",
       "  </thead>\n",
       "  <tbody>\n",
       "    <tr>\n",
       "      <th>Abia</th>\n",
       "      <td>980</td>\n",
       "      <td>980.0</td>\n",
       "      <td>25</td>\n",
       "      <td>25.0</td>\n",
       "      <td>945</td>\n",
       "      <td>945.0</td>\n",
       "      <td>10</td>\n",
       "      <td>10.0</td>\n",
       "    </tr>\n",
       "    <tr>\n",
       "      <th>Adamawa</th>\n",
       "      <td>355</td>\n",
       "      <td>355.0</td>\n",
       "      <td>96</td>\n",
       "      <td>96.0</td>\n",
       "      <td>238</td>\n",
       "      <td>238.0</td>\n",
       "      <td>21</td>\n",
       "      <td>21.0</td>\n",
       "    </tr>\n",
       "    <tr>\n",
       "      <th>Akwa Ibom</th>\n",
       "      <td>395</td>\n",
       "      <td>395.0</td>\n",
       "      <td>44</td>\n",
       "      <td>44.0</td>\n",
       "      <td>342</td>\n",
       "      <td>342.0</td>\n",
       "      <td>9</td>\n",
       "      <td>9.0</td>\n",
       "    </tr>\n",
       "    <tr>\n",
       "      <th>Anambra</th>\n",
       "      <td>299</td>\n",
       "      <td>299.0</td>\n",
       "      <td>6</td>\n",
       "      <td>6.0</td>\n",
       "      <td>274</td>\n",
       "      <td>274.0</td>\n",
       "      <td>19</td>\n",
       "      <td>19.0</td>\n",
       "    </tr>\n",
       "    <tr>\n",
       "      <th>Bauchi</th>\n",
       "      <td>897</td>\n",
       "      <td>897.0</td>\n",
       "      <td>108</td>\n",
       "      <td>108.0</td>\n",
       "      <td>775</td>\n",
       "      <td>775.0</td>\n",
       "      <td>14</td>\n",
       "      <td>14.0</td>\n",
       "    </tr>\n",
       "  </tbody>\n",
       "</table>\n",
       "</div>"
      ],
      "text/plain": [
       "          Confirmed cases        Admitted cases        Recovered cases         \\\n",
       "                      sum   mean            sum   mean             sum   mean   \n",
       "States                                                                          \n",
       "Abia                  980  980.0             25   25.0             945  945.0   \n",
       "Adamawa               355  355.0             96   96.0             238  238.0   \n",
       "Akwa Ibom             395  395.0             44   44.0             342  342.0   \n",
       "Anambra               299  299.0              6    6.0             274  274.0   \n",
       "Bauchi                897  897.0            108  108.0             775  775.0   \n",
       "\n",
       "          Death        \n",
       "            sum  mean  \n",
       "States                 \n",
       "Abia         10  10.0  \n",
       "Adamawa      21  21.0  \n",
       "Akwa Ibom     9   9.0  \n",
       "Anambra      19  19.0  \n",
       "Bauchi       14  14.0  "
      ]
     },
     "execution_count": 47,
     "metadata": {},
     "output_type": "execute_result"
    }
   ],
   "source": [
    "df.groupby('States').agg(['sum', 'mean']).head()"
   ]
  },
  {
   "cell_type": "code",
   "execution_count": null,
   "id": "7bac0d08",
   "metadata": {},
   "outputs": [],
   "source": []
  },
  {
   "cell_type": "markdown",
   "id": "234a282d",
   "metadata": {},
   "source": [
    "## Data Visualization"
   ]
  },
  {
   "cell_type": "code",
   "execution_count": 48,
   "id": "20cc4fd9",
   "metadata": {},
   "outputs": [
    {
     "data": {
      "image/png": "[encoded data removed]",
      "text/plain": [
       "<Figure size 1500x500 with 1 Axes>"
      ]
     },
     "metadata": {},
     "output_type": "display_data"
    }
   ],
   "source": [
    "df = df.sort_values(by=['Confirmed cases'], ascending=False).head(10)\n",
    "plt.figure(figsize=(15,5))\n",
    "sns.barplot(x = 'States', y= 'Confirmed cases', data = df).set_title(\"Top 10 states with Confirmed Covid cases by Laboratory test\", fontdict = { 'fontsize': 20});"
   ]
  },
  {
   "cell_type": "code",
   "execution_count": null,
   "id": "a6697948",
   "metadata": {},
   "outputs": [],
   "source": []
  },
  {
   "cell_type": "code",
   "execution_count": null,
   "id": "b8bef0a7",
   "metadata": {},
   "outputs": [],
   "source": []
  },
  {
   "cell_type": "code",
   "execution_count": 49,
   "id": "2aeedb04",
   "metadata": {},
   "outputs": [
    {
     "data": {
      "image/png": "[encoded data removed]",
      "text/plain": [
       "<Figure size 1500x500 with 1 Axes>"
      ]
     },
     "metadata": {},
     "output_type": "display_data"
    }
   ],
   "source": [
    "df = df.sort_values(by=['Recovered cases'], ascending=False).head(10)\n",
    "plt.figure(figsize=(15,5))\n",
    "sns.barplot(x = 'States', y= 'Recovered cases', data = df).set_title(\"Top 10 states with Discharged Covid cases\", fontdict = { 'fontsize': 20});\n"
   ]
  },
  {
   "cell_type": "code",
   "execution_count": null,
   "id": "879d531e",
   "metadata": {},
   "outputs": [],
   "source": []
  },
  {
   "cell_type": "code",
   "execution_count": 50,
   "id": "5ad925dc",
   "metadata": {},
   "outputs": [
    {
     "data": {
      "image/png": "[encoded data removed]",
      "text/plain": [
       "<Figure size 1500x500 with 1 Axes>"
      ]
     },
     "metadata": {},
     "output_type": "display_data"
    }
   ],
   "source": [
    "df = df.sort_values(by=['Recovered cases']).head(10)\n",
    "plt.figure(figsize=(15,5))\n",
    "sns.barplot(x = 'States', y= 'Recovered cases', data = df).set_title(\"Top 10 states with Discharged Covid cases\", fontdict = { 'fontsize': 20});\n"
   ]
  },
  {
   "cell_type": "code",
   "execution_count": null,
   "id": "017652b3",
   "metadata": {},
   "outputs": [],
   "source": []
  },
  {
   "cell_type": "code",
   "execution_count": null,
   "id": "ade521ee",
   "metadata": {},
   "outputs": [],
   "source": []
  },
  {
   "cell_type": "code",
   "execution_count": null,
   "id": "4775b450",
   "metadata": {},
   "outputs": [],
   "source": []
  },
  {
   "cell_type": "code",
   "execution_count": null,
   "id": "68a7d2b7",
   "metadata": {},
   "outputs": [],
   "source": []
  },
  {
   "cell_type": "code",
   "execution_count": 51,
   "id": "8ad83b8d",
   "metadata": {},
   "outputs": [
    {
     "data": {
      "image/png": "[encoded data removed]",
      "text/plain": [
       "<Figure size 1500x500 with 1 Axes>"
      ]
     },
     "metadata": {},
     "output_type": "display_data"
    }
   ],
   "source": [
    "df = df.sort_values(by=['Death'], ascending=False).head(10)\n",
    "plt.figure(figsize=(15,5))\n",
    "sns.barplot(x = 'States', y= 'Recovered cases', data = df).set_title(\"Top 10 states with Death Covid cases\", fontdict = { 'fontsize': 20});"
   ]
  },
  {
   "cell_type": "markdown",
   "id": "2d4062f2",
   "metadata": {},
   "source": [
    "* Lagos has the highest number of discharged patient with close to 25000 while the Drlta and Kano had the least discharged patients with less than 3000\n",
    "* Abuja is the second highest number of discharged patients with more than 5000 but less than 10000"
   ]
  },
  {
   "cell_type": "code",
   "execution_count": null,
   "id": "dc591100",
   "metadata": {},
   "outputs": [],
   "source": []
  },
  {
   "cell_type": "markdown",
   "id": "5e9c63a8",
   "metadata": {},
   "source": [
    "### Line plot for the total confirmed, recovered and death cases daily in Nigeria"
   ]
  },
  {
   "cell_type": "code",
   "execution_count": 52,
   "id": "d75a9990",
   "metadata": {},
   "outputs": [
    {
     "data": {
      "text/plain": [
       "Text(0.5, 1.0, 'Scatter Plot of Admitted Cases and Confirmed Cases.')"
      ]
     },
     "execution_count": 52,
     "metadata": {},
     "output_type": "execute_result"
    },
    {
     "data": {
      "image/png": "[encoded data removed]",
      "text/plain": [
       "<Figure size 640x480 with 1 Axes>"
      ]
     },
     "metadata": {},
     "output_type": "display_data"
    }
   ],
   "source": [
    "#Plot scatter plot between mean area and mean smoothness\n",
    "sns.scatterplot(x = 'Confirmed cases', y = 'Admitted cases', data = df)\n",
    "plt.title('Scatter Plot of Admitted Cases and Confirmed Cases.')"
   ]
  },
  {
   "cell_type": "markdown",
   "id": "9a42498b",
   "metadata": {},
   "source": [
    "* Number of Admitted cases raise to over 2500 while Number of Confirmed Cases raise to over 25,000"
   ]
  },
  {
   "cell_type": "code",
   "execution_count": 53,
   "id": "a232e175",
   "metadata": {},
   "outputs": [
    {
     "data": {
      "text/plain": [
       "Text(0.5, 1.0, 'Scatter Plot of Death Cases and Confirmed Cases.')"
      ]
     },
     "execution_count": 53,
     "metadata": {},
     "output_type": "execute_result"
    },
    {
     "data": {
      "image/png": "[encoded data removed]",
      "text/plain": [
       "<Figure size 640x480 with 1 Axes>"
      ]
     },
     "metadata": {},
     "output_type": "display_data"
    }
   ],
   "source": [
    "#Plot scatter plot between mean area and mean smoothness\n",
    "sns.scatterplot(x = 'Confirmed cases', y = 'Death', data = df)\n",
    "plt.title('Scatter Plot of Death Cases and Confirmed Cases.')"
   ]
  },
  {
   "cell_type": "code",
   "execution_count": null,
   "id": "bcd0ceb7",
   "metadata": {},
   "outputs": [],
   "source": []
  },
  {
   "cell_type": "code",
   "execution_count": null,
   "id": "99249637",
   "metadata": {},
   "outputs": [],
   "source": []
  },
  {
   "cell_type": "code",
   "execution_count": 54,
   "id": "4cc1ffdd",
   "metadata": {},
   "outputs": [
    {
     "data": {
      "text/plain": [
       "Text(0.5, 1.0, 'Scatter Plot of Death Cases and the Corresponding States.')"
      ]
     },
     "execution_count": 54,
     "metadata": {},
     "output_type": "execute_result"
    },
    {
     "data": {
      "image/png": "[encoded data removed]",
      "text/plain": [
       "<Figure size 640x480 with 1 Axes>"
      ]
     },
     "metadata": {},
     "output_type": "display_data"
    }
   ],
   "source": [
    "#Plot scatter plot between mean area and mean smoothness\n",
    "sns.scatterplot(x = 'States', y = 'Death', data = df)\n",
    "plt.title('Scatter Plot of Death Cases and the Corresponding States.')"
   ]
  },
  {
   "cell_type": "markdown",
   "id": "2c31b92b",
   "metadata": {},
   "source": [
    "From the graph above result, it is shown that Lagos highest number of death record of more 225 follow by Edo with more than 100 but less than 125 while both Plateau and Ogun recorded less record of death below 50"
   ]
  },
  {
   "cell_type": "code",
   "execution_count": null,
   "id": "bcc04594",
   "metadata": {},
   "outputs": [],
   "source": []
  },
  {
   "cell_type": "code",
   "execution_count": 55,
   "id": "1bf6f26c",
   "metadata": {},
   "outputs": [
    {
     "data": {
      "text/plain": [
       "Text(0.5, 1.0, 'Scatter Plot of Admitted Cases and the Corresponding States.')"
      ]
     },
     "execution_count": 55,
     "metadata": {},
     "output_type": "execute_result"
    },
    {
     "data": {
      "image/png": "[encoded data removed]",
      "text/plain": [
       "<Figure size 640x480 with 1 Axes>"
      ]
     },
     "metadata": {},
     "output_type": "display_data"
    }
   ],
   "source": [
    "#Plot scatter plot between mean area and mean smoothness\n",
    "sns.scatterplot(x = 'States', y = 'Admitted cases', data = df)\n",
    "plt.title('Scatter Plot of Admitted Cases and the Corresponding States.')"
   ]
  },
  {
   "cell_type": "code",
   "execution_count": null,
   "id": "a09e3319",
   "metadata": {},
   "outputs": [],
   "source": []
  },
  {
   "cell_type": "markdown",
   "id": "c03c3a00",
   "metadata": {},
   "source": [
    "The Scatter graph above shows that FCT recorded the highest number of admission case of more than 2500 patients while Edo and Delta had below 250 patients recorded"
   ]
  },
  {
   "cell_type": "markdown",
   "id": "f546f67c",
   "metadata": {},
   "source": [
    "### Correlation between the columns"
   ]
  },
  {
   "cell_type": "code",
   "execution_count": 56,
   "id": "f538e733",
   "metadata": {},
   "outputs": [
    {
     "data": {
      "text/html": [
       "<div>\n",
       "<style scoped>\n",
       "    .dataframe tbody tr th:only-of-type {\n",
       "        vertical-align: middle;\n",
       "    }\n",
       "\n",
       "    .dataframe tbody tr th {\n",
       "        vertical-align: top;\n",
       "    }\n",
       "\n",
       "    .dataframe thead th {\n",
       "        text-align: right;\n",
       "    }\n",
       "</style>\n",
       "<table border=\"1\" class=\"dataframe\">\n",
       "  <thead>\n",
       "    <tr style=\"text-align: right;\">\n",
       "      <th></th>\n",
       "      <th>Confirmed cases</th>\n",
       "      <th>Admitted cases</th>\n",
       "      <th>Recovered cases</th>\n",
       "      <th>Death</th>\n",
       "    </tr>\n",
       "  </thead>\n",
       "  <tbody>\n",
       "    <tr>\n",
       "      <th>Confirmed cases</th>\n",
       "      <td>1.000000</td>\n",
       "      <td>0.790451</td>\n",
       "      <td>0.995709</td>\n",
       "      <td>0.914463</td>\n",
       "    </tr>\n",
       "    <tr>\n",
       "      <th>Admitted cases</th>\n",
       "      <td>0.790451</td>\n",
       "      <td>1.000000</td>\n",
       "      <td>0.730416</td>\n",
       "      <td>0.667474</td>\n",
       "    </tr>\n",
       "    <tr>\n",
       "      <th>Recovered cases</th>\n",
       "      <td>0.995709</td>\n",
       "      <td>0.730416</td>\n",
       "      <td>1.000000</td>\n",
       "      <td>0.917478</td>\n",
       "    </tr>\n",
       "    <tr>\n",
       "      <th>Death</th>\n",
       "      <td>0.914463</td>\n",
       "      <td>0.667474</td>\n",
       "      <td>0.917478</td>\n",
       "      <td>1.000000</td>\n",
       "    </tr>\n",
       "  </tbody>\n",
       "</table>\n",
       "</div>"
      ],
      "text/plain": [
       "                 Confirmed cases  Admitted cases  Recovered cases     Death\n",
       "Confirmed cases         1.000000        0.790451         0.995709  0.914463\n",
       "Admitted cases          0.790451        1.000000         0.730416  0.667474\n",
       "Recovered cases         0.995709        0.730416         1.000000  0.917478\n",
       "Death                   0.914463        0.667474         0.917478  1.000000"
      ]
     },
     "execution_count": 56,
     "metadata": {},
     "output_type": "execute_result"
    }
   ],
   "source": [
    "df.corr()"
   ]
  },
  {
   "cell_type": "code",
   "execution_count": null,
   "id": "172d1979",
   "metadata": {},
   "outputs": [],
   "source": []
  },
  {
   "cell_type": "code",
   "execution_count": 57,
   "id": "7e749a85",
   "metadata": {},
   "outputs": [
    {
     "data": {
      "text/plain": [
       "<AxesSubplot:>"
      ]
     },
     "execution_count": 57,
     "metadata": {},
     "output_type": "execute_result"
    },
    {
     "data": {
      "image/png": "[encoded data removed]",
      "text/plain": [
       "<Figure size 640x480 with 2 Axes>"
      ]
     },
     "metadata": {},
     "output_type": "display_data"
    }
   ],
   "source": [
    "sns.heatmap(df.corr(), annot=True)"
   ]
  },
  {
   "cell_type": "markdown",
   "id": "bb7bb759",
   "metadata": {},
   "source": [
    "There is a high correlation coefficient between:\n",
    "   * Death and Confirmed cases, correlation coefficient is 0.91\n",
    "   * Recovered cases and Confirmed cases, correlation coefficient is 1 \n",
    "   * Recovered cases and Death cases, correlation coefficient is 0.92\n",
    "   * Admitted cases and Confirmed cases, correlation coefficient is 0.79\n",
    "   * Confirmed cases to Confirmed cases, correlation coefficient is 1\n",
    "   * Death cases to Death cases, correlation coefficient is 1\n",
    "   * Recovered cases to Recovered cases, correlation coefficient is 1 \n",
    "   * Admitted cases and Admitted cases, correlation coefficient is 1\n",
    "\n",
    "   * Low correlation coefficient between Admitted cases and Death cases, correlation coefficient is 0.67"
   ]
  },
  {
   "cell_type": "code",
   "execution_count": 58,
   "id": "6c06e0e8",
   "metadata": {},
   "outputs": [],
   "source": [
    "#plt.figure(figsize=(6, 6))\n",
    "#sns.heatmap(df.corr(), annot=True)"
   ]
  },
  {
   "cell_type": "code",
   "execution_count": 59,
   "id": "f154caf4",
   "metadata": {},
   "outputs": [
    {
     "data": {
      "text/plain": [
       "<seaborn.axisgrid.PairGrid at 0x24fa077af70>"
      ]
     },
     "execution_count": 59,
     "metadata": {},
     "output_type": "execute_result"
    },
    {
     "data": {
      "image/png": "[encoded data removed]",
      "text/plain": [
       "<Figure size 500x500 with 6 Axes>"
      ]
     },
     "metadata": {},
     "output_type": "display_data"
    }
   ],
   "source": [
    "# Plot the pairplot\n",
    "sns.pairplot(df, vars=['Confirmed cases', 'Admitted cases'])"
   ]
  },
  {
   "cell_type": "code",
   "execution_count": null,
   "id": "6f9c4788",
   "metadata": {},
   "outputs": [],
   "source": []
  },
  {
   "cell_type": "code",
   "execution_count": 60,
   "id": "e6b73f2c",
   "metadata": {},
   "outputs": [
    {
     "data": {
      "text/plain": [
       "<seaborn.axisgrid.PairGrid at 0x24fa0a132b0>"
      ]
     },
     "execution_count": 60,
     "metadata": {},
     "output_type": "execute_result"
    },
    {
     "data": {
      "image/png": "[encoded data removed]",
      "text/plain": [
       "<Figure size 1000x1000 with 20 Axes>"
      ]
     },
     "metadata": {},
     "output_type": "display_data"
    }
   ],
   "source": [
    "# Plot the pairplot\n",
    "sns.pairplot(df, vars=['Confirmed cases', 'Admitted cases', 'Recovered cases', 'Death'])"
   ]
  },
  {
   "cell_type": "code",
   "execution_count": null,
   "id": "1592e49c",
   "metadata": {},
   "outputs": [],
   "source": []
  },
  {
   "cell_type": "code",
   "execution_count": 61,
   "id": "454eefe1",
   "metadata": {},
   "outputs": [
    {
     "name": "stderr",
     "output_type": "stream",
     "text": [
      "C:\\Users\\user\\anaconda3\\lib\\site-packages\\seaborn\\distributions.py:2619: FutureWarning: `distplot` is a deprecated function and will be removed in a future version. Please adapt your code to use either `displot` (a figure-level function with similar flexibility) or `histplot` (an axes-level function for histograms).\n",
      "  warnings.warn(msg, FutureWarning)\n"
     ]
    },
    {
     "data": {
      "text/plain": [
       "<AxesSubplot:xlabel='Death', ylabel='Density'>"
      ]
     },
     "execution_count": 61,
     "metadata": {},
     "output_type": "execute_result"
    },
    {
     "data": {
      "image/png": "[encoded data removed]",
      "text/plain": [
       "<Figure size 640x480 with 1 Axes>"
      ]
     },
     "metadata": {},
     "output_type": "display_data"
    }
   ],
   "source": [
    "#Distribution plot\n",
    "sns.distplot(df['Death'],bins = 5, color = 'blue')"
   ]
  },
  {
   "cell_type": "code",
   "execution_count": null,
   "id": "b3aa80ad",
   "metadata": {},
   "outputs": [],
   "source": []
  },
  {
   "cell_type": "code",
   "execution_count": 62,
   "id": "8e497c71",
   "metadata": {},
   "outputs": [
    {
     "name": "stderr",
     "output_type": "stream",
     "text": [
      "C:\\Users\\user\\anaconda3\\lib\\site-packages\\seaborn\\distributions.py:2619: FutureWarning: `distplot` is a deprecated function and will be removed in a future version. Please adapt your code to use either `displot` (a figure-level function with similar flexibility) or `histplot` (an axes-level function for histograms).\n",
      "  warnings.warn(msg, FutureWarning)\n"
     ]
    },
    {
     "data": {
      "text/plain": [
       "<AxesSubplot:xlabel='Confirmed cases', ylabel='Density'>"
      ]
     },
     "execution_count": 62,
     "metadata": {},
     "output_type": "execute_result"
    },
    {
     "data": {
      "image/png": "[encoded data removed]",
      "text/plain": [
       "<Figure size 640x480 with 1 Axes>"
      ]
     },
     "metadata": {},
     "output_type": "display_data"
    }
   ],
   "source": [
    "#Distribution plot\n",
    "sns.distplot(df['Confirmed cases'],bins = 5, color = 'blue')"
   ]
  },
  {
   "cell_type": "code",
   "execution_count": null,
   "id": "ab2c927b",
   "metadata": {},
   "outputs": [],
   "source": []
  },
  {
   "cell_type": "code",
   "execution_count": 63,
   "id": "81dd8ab7",
   "metadata": {},
   "outputs": [
    {
     "data": {
      "image/png": "[encoded data removed]",
      "text/plain": [
       "<Figure size 800x300 with 1 Axes>"
      ]
     },
     "metadata": {},
     "output_type": "display_data"
    }
   ],
   "source": [
    "# Create a Figure\n",
    "fig = plt.figure(figsize=(8, 3))\n",
    "\n",
    "# Create a bar plot of name vs grade\n",
    "plt.bar(x=df['States'], height=df['Death'], color='#1fab2c')\n",
    "\n",
    "# Customize the chart\n",
    "plt.title('Nigeria Covid19 Analysis')\n",
    "plt.xlabel('Affected State')\n",
    "plt.ylabel('Number of Death')\n",
    "plt.grid(color='#95a5a6', linestyle='--', linewidth=2, axis='y', alpha=0.7)\n",
    "plt.xticks(rotation=99)\n",
    "plt.show()"
   ]
  },
  {
   "cell_type": "markdown",
   "id": "762d0bb1",
   "metadata": {},
   "source": [
    "Comments:\n",
    "* From the bar chart above, it is shown that:\n",
    "    * Lagos state has the highest number of death rate while Ogun state has the least "
   ]
  },
  {
   "cell_type": "code",
   "execution_count": null,
   "id": "fc3acb43",
   "metadata": {},
   "outputs": [],
   "source": []
  },
  {
   "cell_type": "code",
   "execution_count": 64,
   "id": "fa5359e0",
   "metadata": {},
   "outputs": [
    {
     "name": "stderr",
     "output_type": "stream",
     "text": [
      "C:\\Users\\user\\AppData\\Local\\Temp\\ipykernel_1148\\4074861645.py:16: UserWarning: Matplotlib is currently using module://matplotlib_inline.backend_inline, which is a non-GUI backend, so cannot show the figure.\n",
      "  fig.show()\n"
     ]
    },
    {
     "data": {
      "image/png": "[encoded data removed]",
      "text/plain": [
       "<Figure size 1000x400 with 1 Axes>"
      ]
     },
     "metadata": {},
     "output_type": "display_data"
    }
   ],
   "source": [
    "# Get the variable to examine\n",
    "var_data = df['Death']\n",
    "\n",
    "# Create a Figure\n",
    "fig = plt.figure(figsize=(10, 4))\n",
    "\n",
    "# Plot a histogram\n",
    "plt.hist(var_data)\n",
    "\n",
    "# Add titles and labels\n",
    "plt.title('Data Distribution')\n",
    "plt.xlabel('Value')\n",
    "plt.ylabel('Frequency')\n",
    "\n",
    "#Show the figure\n",
    "fig.show()"
   ]
  },
  {
   "cell_type": "code",
   "execution_count": null,
   "id": "b7031241",
   "metadata": {},
   "outputs": [],
   "source": []
  },
  {
   "cell_type": "code",
   "execution_count": null,
   "id": "bfcc5986",
   "metadata": {},
   "outputs": [],
   "source": []
  },
  {
   "cell_type": "code",
   "execution_count": 65,
   "id": "525c571e",
   "metadata": {},
   "outputs": [
    {
     "name": "stdout",
     "output_type": "stream",
     "text": [
      "Minimum:33.00\n",
      "Mean:76.80\n",
      "Median:52.50\n",
      "Mode:33.00\n",
      "Maximum:236.00\n",
      "\n"
     ]
    },
    {
     "name": "stderr",
     "output_type": "stream",
     "text": [
      "C:\\Users\\user\\AppData\\Local\\Temp\\ipykernel_1148\\3498912263.py:40: UserWarning: Matplotlib is currently using module://matplotlib_inline.backend_inline, which is a non-GUI backend, so cannot show the figure.\n",
      "  fig.show()\n"
     ]
    },
    {
     "data": {
      "image/png": "[encoded data removed]",
      "text/plain": [
       "<Figure size 1000x400 with 2 Axes>"
      ]
     },
     "metadata": {},
     "output_type": "display_data"
    }
   ],
   "source": [
    "# Create a function that we can re-use\n",
    "def show_distribution(var_data):\n",
    "    '''\n",
    "    This function will make a distribution (graph) and display it\n",
    "    '''\n",
    "    # Get statistics\n",
    "    min_val = var_data.min()\n",
    "    max_val = var_data.max()\n",
    "    mean_val = var_data.mean()\n",
    "    med_val = var_data.median()\n",
    "    mod_val = var_data.mode()[0]\n",
    "\n",
    "    print('Minimum:{:.2f}\\nMean:{:.2f}\\nMedian:{:.2f}\\nMode:{:.2f}\\nMaximum:{:.2f}\\n'.format(min_val,\n",
    "                                                                                            mean_val,\n",
    "                                                                                            med_val,\n",
    "                                                                                            mod_val,\n",
    "                                                                                            max_val))\n",
    "    # Create a figure for 2 subplots (2 rows, 1 column)\n",
    "    fig, ax = plt.subplots(2, 1, figsize = (10, 4))\n",
    "    \n",
    "    # Plot the histogram \n",
    "    ax[0].hist(var_data)\n",
    "    ax[0].set_ylabel('Frequency')\n",
    "    \n",
    "    # Add lines for the mean, median, and mode\n",
    "    ax[0].axvline(x=min_val, color = 'purple', linestyle='dashed', linewidth = 2)\n",
    "    ax[0].axvline(x=mean_val, color = 'cyan', linestyle='dashed', linewidth = 2)\n",
    "    ax[0].axvline(x=med_val, color = 'red', linestyle='dashed', linewidth = 2)\n",
    "    ax[0].axvline(x=mod_val, color = 'yellow', linestyle='dashed', linewidth = 2)\n",
    "    ax[0].axvline(x=max_val, color = 'gray', linestyle='dashed', linewidth = 2)\n",
    "\n",
    "    # Plot the boxplot \n",
    "    ax[1].boxplot(var_data, vert=False)\n",
    "    ax[1].set_xlabel('Value')\n",
    "    \n",
    "    # Add a title to the Figure\n",
    "    fig.suptitle('Data Distribution')\n",
    "    \n",
    "    # Show the figure\n",
    "    fig.show()\n",
    "\n",
    "show_distribution(df['Death'])"
   ]
  },
  {
   "cell_type": "markdown",
   "id": "9c0fb11e",
   "metadata": {},
   "source": [
    "Comments:\n",
    "* The yellow dash vertical line signifies mode(most occurrence) rate of death\n",
    "* The dashed vertical red line signifies median(middle) rate of death\n",
    "* The dashed vertical cyan line signifies mean rate of death\n",
    "* The dashed vertical red line signifies median(middle) rate of death\n",
    "* The dashed vertical purple line signifies least rate of death\n",
    "* The dashed vertical gray line signifies highest rate of death"
   ]
  },
  {
   "cell_type": "code",
   "execution_count": null,
   "id": "29cc0eef",
   "metadata": {},
   "outputs": [],
   "source": []
  },
  {
   "cell_type": "code",
   "execution_count": null,
   "id": "86204620",
   "metadata": {},
   "outputs": [],
   "source": []
  },
  {
   "cell_type": "code",
   "execution_count": 66,
   "id": "a4b84b0f",
   "metadata": {},
   "outputs": [
    {
     "data": {
      "image/png": "[encoded data removed]",
      "text/plain": [
       "<Figure size 640x480 with 1 Axes>"
      ]
     },
     "metadata": {},
     "output_type": "display_data"
    }
   ],
   "source": [
    "death = df[\"Death\"].head()\n",
    "state = df[\"States\"].head()\n",
    "colors = [\"#adefad\", \"#ff7f0e\", \"#2ca02c\", \"#d62728\", \"#8c564b\"]\n",
    "explode = (0.1, 0, 0, 0, 0)  \n",
    "plt.pie(death, labels=state, explode=explode, colors=colors, autopct='%1.1f%%', shadow=True, startangle=180)\n",
    "plt.title(\"State with Death Record Covid19, Nigeria\")\n",
    "plt.show()"
   ]
  },
  {
   "cell_type": "markdown",
   "id": "0c0264de",
   "metadata": {},
   "source": [
    "Comment:\n",
    "* Lagos recorded the highest death of 42.3% follow by Edo with 20.3% while Kano has the least record of 10%\n",
    "* Therefore it is unsafe to live in Lagos "
   ]
  },
  {
   "cell_type": "code",
   "execution_count": null,
   "id": "e874980a",
   "metadata": {},
   "outputs": [],
   "source": []
  },
  {
   "cell_type": "code",
   "execution_count": 67,
   "id": "2f621412",
   "metadata": {},
   "outputs": [
    {
     "data": {
      "image/png": "[encoded data removed]",
      "text/plain": [
       "<Figure size 640x480 with 1 Axes>"
      ]
     },
     "metadata": {},
     "output_type": "display_data"
    }
   ],
   "source": [
    "confirm = df[\"Confirmed cases\"].head()\n",
    "state = df[\"States\"].head()\n",
    "colors = [\"#1f77b4\", \"#ff7f0e\", \"#2ca02c\", \"#d62728\", \"#8c564b\"]\n",
    "explode = (0.1, 0, 0, 0, 0)  \n",
    "plt.pie(confirm, labels=state, explode=explode, colors=colors, autopct='%1.1f%%', shadow=True, startangle=180)\n",
    "plt.title(\"State with Confirmed Covid19 cases, Nigeria\")\n",
    "plt.show()"
   ]
  },
  {
   "cell_type": "markdown",
   "id": "5f3b364a",
   "metadata": {},
   "source": [
    "Comment:Base on the Pie Chart shown above\n",
    "\n",
    "- Lagos has the highest confirmed case record of 60.1% follow by FCT with 21.7% while Kano has the least confirmed case record\n",
    "* Conclusion:\n",
    "- Covid19 virus tends to spread more in Lagos than any other state in Nigeria\n",
    "- It is more safe to live in Kano than in Lagos.    "
   ]
  },
  {
   "cell_type": "code",
   "execution_count": null,
   "id": "954bd459",
   "metadata": {},
   "outputs": [],
   "source": []
  },
  {
   "cell_type": "code",
   "execution_count": null,
   "id": "4605a7db",
   "metadata": {},
   "outputs": [],
   "source": []
  },
  {
   "cell_type": "code",
   "execution_count": 68,
   "id": "faf6d281",
   "metadata": {},
   "outputs": [
    {
     "data": {
      "image/png": "[encoded data removed]",
      "text/plain": [
       "<Figure size 640x480 with 1 Axes>"
      ]
     },
     "metadata": {},
     "output_type": "display_data"
    }
   ],
   "source": [
    "admitted = df[\"Admitted cases\"].head()\n",
    "state = df[\"States\"].head()\n",
    "colors = [\"#1f77b4\", \"#ff7f0e\", \"#2ca02c\", \"#d62728\", \"#8c564b\"]\n",
    "explode = (0.1, 0, 0, 0, 0)  \n",
    "plt.pie(admitted, labels=state, explode=explode, colors=colors, autopct='%1.1f%%', shadow=True, startangle=180)\n",
    "plt.title(\"State with Adimission Covid19 cases, Nigeria\")\n",
    "plt.show()"
   ]
  },
  {
   "cell_type": "markdown",
   "id": "d821b3d8",
   "metadata": {},
   "source": [
    "Comment:\n",
    "* Abuja has the highest number of admitted case record of 49.3% follow by Lagos with 42.3%% while Edo has the minimum number of admitted case record of 0.9%    "
   ]
  },
  {
   "cell_type": "raw",
   "id": "18e64319",
   "metadata": {},
   "source": [
    "Comment:\n",
    "* Abuja has the highest number of admitted case record of 49.3% follow by Lagos with 42.3%% while Edo has the minimum number of admitted case record of 0.9%    "
   ]
  },
  {
   "cell_type": "code",
   "execution_count": null,
   "id": "98980b4c",
   "metadata": {},
   "outputs": [],
   "source": []
  },
  {
   "cell_type": "code",
   "execution_count": 69,
   "id": "d96e89c9",
   "metadata": {},
   "outputs": [
    {
     "data": {
      "image/png": "[encoded data removed]",
      "text/plain": [
       "<Figure size 640x480 with 1 Axes>"
      ]
     },
     "metadata": {},
     "output_type": "display_data"
    }
   ],
   "source": [
    "recover = df[\"Recovered cases\"].head()\n",
    "state = df[\"States\"].head()\n",
    "colors = [\"#fadeba\", \"#cabdad\", \"#7c7c2a\", \"#d62728\", \"#1ea2b1\"]\n",
    "explode = (0.1, 0, 0, 0, 0)  \n",
    "plt.pie(recover, labels=state, explode=explode, colors=colors, autopct='%1.1f%%', shadow=True, startangle=180)\n",
    "plt.title(\"State with Discharged Covid19 cases in Nigeria\")\n",
    "plt.show()"
   ]
  },
  {
   "cell_type": "markdown",
   "id": "b95368af",
   "metadata": {},
   "source": [
    "Comment:\n",
    "* Lagos is the state with the highest record of discharged with 63.1% follow by FCT with 17.6% while Kano has the least record of discharged record"
   ]
  },
  {
   "cell_type": "code",
   "execution_count": null,
   "id": "c79f6dfc",
   "metadata": {},
   "outputs": [],
   "source": []
  },
  {
   "cell_type": "markdown",
   "id": "bc0120c1",
   "metadata": {},
   "source": [
    "Comment:\n",
    "* Confirmed cases and Admitted cases are not perfectly correlation meaning there is a difference between the two columns"
   ]
  },
  {
   "cell_type": "code",
   "execution_count": null,
   "id": "1be6a538",
   "metadata": {},
   "outputs": [],
   "source": []
  },
  {
   "cell_type": "code",
   "execution_count": 70,
   "id": "9066a8f7",
   "metadata": {
    "scrolled": true
   },
   "outputs": [
    {
     "data": {
      "text/plain": [
       "<AxesSubplot:xlabel='Admitted cases', ylabel='Count'>"
      ]
     },
     "execution_count": 70,
     "metadata": {},
     "output_type": "execute_result"
    },
    {
     "data": {
      "image/png": "[encoded data removed]",
      "text/plain": [
       "<Figure size 640x480 with 1 Axes>"
      ]
     },
     "metadata": {},
     "output_type": "display_data"
    }
   ],
   "source": [
    "#Histogram to show the methods of payment\n",
    "sns.histplot(data=df, x = 'Admitted cases')"
   ]
  },
  {
   "cell_type": "code",
   "execution_count": 71,
   "id": "cf96674c",
   "metadata": {},
   "outputs": [
    {
     "data": {
      "text/plain": [
       "0"
      ]
     },
     "execution_count": 71,
     "metadata": {},
     "output_type": "execute_result"
    }
   ],
   "source": [
    "df = df['Admitted cases'] == 1500\n",
    "df.sum()"
   ]
  },
  {
   "cell_type": "markdown",
   "id": "10ae9ed5",
   "metadata": {},
   "source": [
    "## Summary"
   ]
  },
  {
   "cell_type": "markdown",
   "id": "f4937e38",
   "metadata": {},
   "source": [
    "I learnt how to perform Exploratory Data Analysis (EDA) \n",
    "in Python and how to use external Python libraries like Pandas, Numpy, Matplotlib, Seaborn etc.\n",
    "to conduct univariate analysis, bivariate analysis and data visualization."
   ]
  },
  {
   "cell_type": "markdown",
   "id": "b4bc4a9c",
   "metadata": {},
   "source": [
    "# Conclusion\n",
    "The main purpose of this project to demonstrate various pandas functions that help us analyze tabular data. The parameters of pandas functions are highly important as they make the functions more powerful and versatile. Thus, it is very important to know what parameters achieve. One of the things I like about pandas is that there are almost always more than one way to accomplish a task. For instance, what we have done in the project can also be done in a different way. In fact, you may challenge yourself to do the same using different functions."
   ]
  },
  {
   "cell_type": "code",
   "execution_count": null,
   "id": "0c6e456b",
   "metadata": {},
   "outputs": [],
   "source": []
  }
 ],
 "metadata": {
  "kernelspec": {
   "display_name": "Python 3 (ipykernel)",
   "language": "python",
   "name": "python3"
  },
  "language_info": {
   "codemirror_mode": {
    "name": "ipython",
    "version": 3
   },
   "file_extension": ".py",
   "mimetype": "text/x-python",
   "name": "python",
   "nbconvert_exporter": "python",
   "pygments_lexer": "ipython3",
   "version": "3.9.12"
  }
 },
 "nbformat": 4,
 "nbformat_minor": 5
}
